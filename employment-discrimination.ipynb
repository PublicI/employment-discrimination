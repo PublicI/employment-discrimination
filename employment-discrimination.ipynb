{
 "cells": [
  {
   "cell_type": "code",
   "execution_count": 1,
   "metadata": {
    "collapsed": true,
    "scrolled": false
   },
   "outputs": [],
   "source": [
    "from functools import reduce\n",
    "import json\n",
    "import numpy as np\n",
    "import pandas as pd\n",
    "\n",
    "pd.set_option(\"display.max_columns\", 50)\n",
    "pd.set_option(\"display.max_rows\", 100)\n",
    "pd.options.display.float_format = \"{:,.2f}\".format"
   ]
  },
  {
   "cell_type": "markdown",
   "metadata": {},
   "source": [
    "## Import and format the data"
   ]
  },
  {
   "cell_type": "markdown",
   "metadata": {},
   "source": [
    "Concatenate the data into a single file."
   ]
  },
  {
   "cell_type": "code",
   "execution_count": 2,
   "metadata": {},
   "outputs": [],
   "source": [
    "!sh process_eeoc.sh"
   ]
  },
  {
   "cell_type": "markdown",
   "metadata": {},
   "source": [
    "Import charge data for fiscal years 2011-2017."
   ]
  },
  {
   "cell_type": "code",
   "execution_count": 3,
   "metadata": {},
   "outputs": [
    {
     "name": "stderr",
     "output_type": "stream",
     "text": [
      "/home/jyerardi/anaconda3/lib/python3.6/site-packages/IPython/core/interactiveshell.py:2698: DtypeWarning: Columns (25) have mixed types. Specify dtype option on import or set low_memory=False.\n",
      "  interactivity=interactivity, compiler=compiler, result=result)\n"
     ]
    },
    {
     "name": "stdout",
     "output_type": "stream",
     "text": [
      "<class 'pandas.core.frame.DataFrame'>\n",
      "RangeIndex: 3443509 entries, 0 to 3443508\n",
      "Data columns (total 28 columns):\n",
      "fiscal_year                     object\n",
      "charge_num                      object\n",
      "state                           object\n",
      "num_employees_code              object\n",
      "num_employees                   object\n",
      "naics_code                      float64\n",
      "naics_desc                      object\n",
      "type_code                       object\n",
      "type                            object\n",
      "birth_date                      object\n",
      "sex                             object\n",
      "date_received                   object\n",
      "date_closed                     object\n",
      "closure_code                    object\n",
      "closure_action                  object\n",
      "monetary_benefits               float64\n",
      "statute_code                    object\n",
      "statute                         object\n",
      "basis_code                      object\n",
      "basis                           object\n",
      "issue_code                      object\n",
      "issue                           object\n",
      "court_filing_date               object\n",
      "civil_action_num                object\n",
      "court                           object\n",
      "resolution_date                 object\n",
      "case_type                       object\n",
      "litigation_monetary_benefits    float64\n",
      "dtypes: float64(3), object(25)\n",
      "memory usage: 735.6+ MB\n"
     ]
    }
   ],
   "source": [
    "charges = pd.read_csv(\"data/raw/charges_11_17.txt\", sep=\"\\t\", skiprows=1,\n",
    "                      dtype={1: str},\n",
    "                      names=[\"fiscal_year\", \"charge_num\", \"state\", \"num_employees_code\",\n",
    "                             \"num_employees\", \"naics_code\", \"naics_desc\", \"type_code\",\n",
    "                             \"type\", \"birth_date\", \"sex\", \"date_received\", \"date_closed\",\n",
    "                             \"closure_code\", \"closure_action\", \"monetary_benefits\", \"statute_code\",\n",
    "                             \"statute\", \"basis_code\", \"basis\", \"issue_code\", \"issue\",\n",
    "                             \"court_filing_date\", \"civil_action_num\", \"court\", \"resolution_date\",\n",
    "                             \"case_type\", \"litigation_monetary_benefits\"])\n",
    "charges.info()"
   ]
  },
  {
   "cell_type": "markdown",
   "metadata": {},
   "source": [
    "Convert the date columns."
   ]
  },
  {
   "cell_type": "code",
   "execution_count": 4,
   "metadata": {},
   "outputs": [
    {
     "name": "stdout",
     "output_type": "stream",
     "text": [
      "<class 'pandas.core.frame.DataFrame'>\n",
      "RangeIndex: 3443509 entries, 0 to 3443508\n",
      "Data columns (total 28 columns):\n",
      "fiscal_year                     object\n",
      "charge_num                      object\n",
      "state                           object\n",
      "num_employees_code              object\n",
      "num_employees                   object\n",
      "naics_code                      float64\n",
      "naics_desc                      object\n",
      "type_code                       object\n",
      "type                            object\n",
      "birth_date                      datetime64[ns]\n",
      "sex                             object\n",
      "date_received                   datetime64[ns]\n",
      "date_closed                     datetime64[ns]\n",
      "closure_code                    object\n",
      "closure_action                  object\n",
      "monetary_benefits               float64\n",
      "statute_code                    object\n",
      "statute                         object\n",
      "basis_code                      object\n",
      "basis                           object\n",
      "issue_code                      object\n",
      "issue                           object\n",
      "court_filing_date               datetime64[ns]\n",
      "civil_action_num                object\n",
      "court                           object\n",
      "resolution_date                 datetime64[ns]\n",
      "case_type                       object\n",
      "litigation_monetary_benefits    float64\n",
      "dtypes: datetime64[ns](5), float64(3), object(20)\n",
      "memory usage: 735.6+ MB\n"
     ]
    }
   ],
   "source": [
    "charges[\"birth_date\"] = pd.to_datetime(charges[\"birth_date\"], errors=\"coerce\", format=\"%m/%d/%Y\")\n",
    "charges[\"date_received\"] = pd.to_datetime(charges[\"date_received\"], errors=\"coerce\", format=\"%m/%d/%Y\")\n",
    "charges[\"date_closed\"] = pd.to_datetime(charges[\"date_closed\"], errors=\"coerce\", format=\"%m/%d/%Y\")\n",
    "charges[\"court_filing_date\"] = pd.to_datetime(charges[\"court_filing_date\"], errors=\"coerce\", format=\"%m/%d/%Y\")\n",
    "charges[\"resolution_date\"] = pd.to_datetime(charges[\"resolution_date\"], errors=\"coerce\", format=\"%m/%d/%Y\")\n",
    "charges.info()"
   ]
  },
  {
   "cell_type": "markdown",
   "metadata": {},
   "source": [
    "Import charge data for fiscal year 2010."
   ]
  },
  {
   "cell_type": "code",
   "execution_count": 5,
   "metadata": {},
   "outputs": [
    {
     "name": "stderr",
     "output_type": "stream",
     "text": [
      "/home/jyerardi/anaconda3/lib/python3.6/site-packages/IPython/core/interactiveshell.py:2698: DtypeWarning: Columns (22,23,24,25,26) have mixed types. Specify dtype option on import or set low_memory=False.\n",
      "  interactivity=interactivity, compiler=compiler, result=result)\n"
     ]
    },
    {
     "name": "stdout",
     "output_type": "stream",
     "text": [
      "<class 'pandas.core.frame.DataFrame'>\n",
      "RangeIndex: 343863 entries, 0 to 343862\n",
      "Data columns (total 28 columns):\n",
      "charge_num                      343863 non-null object\n",
      "state                           343801 non-null object\n",
      "num_employees_code              328035 non-null object\n",
      "num_employees                   328035 non-null object\n",
      "naics_code                      187222 non-null float64\n",
      "naics_desc                      185282 non-null object\n",
      "type_code                       343829 non-null object\n",
      "type                            343829 non-null object\n",
      "birth_date                      310000 non-null object\n",
      "sex                             343453 non-null object\n",
      "date_received                   343863 non-null object\n",
      "date_fepa_sent_to_eeoc          20188 non-null object\n",
      "date_closed                     230050 non-null object\n",
      "closure_code                    230050 non-null object\n",
      "closure_action                  230050 non-null object\n",
      "monetary_benefits               37964 non-null object\n",
      "statute_code                    343863 non-null object\n",
      "statute                         343367 non-null object\n",
      "basis_code                      342598 non-null object\n",
      "basis                           343859 non-null object\n",
      "issue_code                      343863 non-null object\n",
      "issue                           343863 non-null object\n",
      "court_filing_date               366 non-null object\n",
      "civil_action_num                355 non-null object\n",
      "court                           355 non-null object\n",
      "resolution_date                 41 non-null object\n",
      "litigation_monetary_benefits    11 non-null object\n",
      "case_type                       894 non-null object\n",
      "dtypes: float64(1), object(27)\n",
      "memory usage: 73.5+ MB\n"
     ]
    }
   ],
   "source": [
    "charges_10 = pd.read_csv(\"data/raw/Genre_2010.txt\", sep=\"\\t\", skiprows=1,\n",
    "                         dtype={0: str},\n",
    "                         names=[\"charge_num\", \"state\", \"num_employees_code\",\n",
    "                                \"num_employees\", \"naics_code\", \"naics_desc\", \"type_code\",\n",
    "                                \"type\", \"birth_date\", \"sex\", \"date_received\", \"date_fepa_sent_to_eeoc\",\n",
    "                                \"date_closed\", \"closure_code\", \"closure_action\", \"monetary_benefits\",\n",
    "                                \"statute_code\", \"statute\", \"basis_code\", \"basis\", \"issue_code\", \"issue\",\n",
    "                                \"court_filing_date\", \"civil_action_num\", \"court\", \"resolution_date\",\n",
    "                                \"litigation_monetary_benefits\", \"case_type\"])\n",
    "charges_10.info()"
   ]
  },
  {
   "cell_type": "markdown",
   "metadata": {},
   "source": [
    "Convert the date columns."
   ]
  },
  {
   "cell_type": "code",
   "execution_count": 6,
   "metadata": {},
   "outputs": [
    {
     "name": "stdout",
     "output_type": "stream",
     "text": [
      "<class 'pandas.core.frame.DataFrame'>\n",
      "RangeIndex: 343863 entries, 0 to 343862\n",
      "Data columns (total 28 columns):\n",
      "charge_num                      343863 non-null object\n",
      "state                           343801 non-null object\n",
      "num_employees_code              328035 non-null object\n",
      "num_employees                   328035 non-null object\n",
      "naics_code                      187222 non-null float64\n",
      "naics_desc                      185282 non-null object\n",
      "type_code                       343829 non-null object\n",
      "type                            343829 non-null object\n",
      "birth_date                      310000 non-null datetime64[ns]\n",
      "sex                             343453 non-null object\n",
      "date_received                   343863 non-null datetime64[ns]\n",
      "date_fepa_sent_to_eeoc          20188 non-null object\n",
      "date_closed                     230050 non-null datetime64[ns]\n",
      "closure_code                    230050 non-null object\n",
      "closure_action                  230050 non-null object\n",
      "monetary_benefits               37964 non-null object\n",
      "statute_code                    343863 non-null object\n",
      "statute                         343367 non-null object\n",
      "basis_code                      342598 non-null object\n",
      "basis                           343859 non-null object\n",
      "issue_code                      343863 non-null object\n",
      "issue                           343863 non-null object\n",
      "court_filing_date               366 non-null datetime64[ns]\n",
      "civil_action_num                355 non-null object\n",
      "court                           355 non-null object\n",
      "resolution_date                 41 non-null datetime64[ns]\n",
      "litigation_monetary_benefits    11 non-null object\n",
      "case_type                       894 non-null object\n",
      "dtypes: datetime64[ns](5), float64(1), object(22)\n",
      "memory usage: 73.5+ MB\n"
     ]
    }
   ],
   "source": [
    "charges_10[\"birth_date\"] = pd.to_datetime(charges_10[\"birth_date\"], errors=\"coerce\", format=\"%m/%d/%y\")\n",
    "charges_10[\"date_received\"] = pd.to_datetime(charges_10[\"date_received\"], errors=\"coerce\", format=\"%m/%d/%y\")\n",
    "charges_10[\"date_closed\"] = pd.to_datetime(charges_10[\"date_closed\"], errors=\"coerce\", format=\"%m/%d/%y\")\n",
    "charges_10[\"court_filing_date\"] = pd.to_datetime(charges_10[\"court_filing_date\"], errors=\"coerce\", format=\"%m/%d/%y\")\n",
    "charges_10[\"resolution_date\"] = pd.to_datetime(charges_10[\"resolution_date\"], errors=\"coerce\", format=\"%m/%d/%y\")\n",
    "charges_10.info()"
   ]
  },
  {
   "cell_type": "markdown",
   "metadata": {},
   "source": [
    "The columns in the 2010 charge data differ from those of the 2011 through 2017 data. We need to delete, add, rename and reorder the columns before concatenating the data."
   ]
  },
  {
   "cell_type": "code",
   "execution_count": 7,
   "metadata": {},
   "outputs": [
    {
     "name": "stdout",
     "output_type": "stream",
     "text": [
      "<class 'pandas.core.frame.DataFrame'>\n",
      "RangeIndex: 343863 entries, 0 to 343862\n",
      "Data columns (total 28 columns):\n",
      "fiscal_year                     343863 non-null object\n",
      "charge_num                      343863 non-null object\n",
      "state                           343801 non-null object\n",
      "num_employees_code              328035 non-null object\n",
      "num_employees                   328035 non-null object\n",
      "naics_code                      187222 non-null float64\n",
      "naics_desc                      185282 non-null object\n",
      "type_code                       343829 non-null object\n",
      "type                            343829 non-null object\n",
      "birth_date                      310000 non-null datetime64[ns]\n",
      "sex                             343453 non-null object\n",
      "date_received                   343863 non-null datetime64[ns]\n",
      "date_closed                     230050 non-null datetime64[ns]\n",
      "closure_code                    230050 non-null object\n",
      "closure_action                  230050 non-null object\n",
      "monetary_benefits               37964 non-null object\n",
      "statute_code                    343863 non-null object\n",
      "statute                         343367 non-null object\n",
      "basis_code                      342598 non-null object\n",
      "basis                           343859 non-null object\n",
      "issue_code                      343863 non-null object\n",
      "issue                           343863 non-null object\n",
      "court_filing_date               366 non-null datetime64[ns]\n",
      "civil_action_num                355 non-null object\n",
      "court                           355 non-null object\n",
      "resolution_date                 41 non-null datetime64[ns]\n",
      "case_type                       894 non-null object\n",
      "litigation_monetary_benefits    11 non-null object\n",
      "dtypes: datetime64[ns](5), float64(1), object(22)\n",
      "memory usage: 73.5+ MB\n"
     ]
    }
   ],
   "source": [
    "charges_10.drop(\"date_fepa_sent_to_eeoc\", axis=1, inplace=True)\n",
    "charges_10[\"fiscal_year\"] = \"FY2010\"\n",
    "charges_10 = charges_10[[\"fiscal_year\", \"charge_num\", \"state\", \"num_employees_code\", \"num_employees\", \"naics_code\", \"naics_desc\", \"type_code\",\n",
    "                         \"type\", \"birth_date\", \"sex\", \"date_received\", \"date_closed\", \"closure_code\", \"closure_action\", \"monetary_benefits\",\n",
    "                         \"statute_code\", \"statute\", \"basis_code\", \"basis\", \"issue_code\", \"issue\", \"court_filing_date\", \"civil_action_num\",\n",
    "                         \"court\", \"resolution_date\", \"case_type\", \"litigation_monetary_benefits\"]]\n",
    "charges_10.info()"
   ]
  },
  {
   "cell_type": "markdown",
   "metadata": {},
   "source": [
    "Concatenate the two sets of charge data."
   ]
  },
  {
   "cell_type": "code",
   "execution_count": 8,
   "metadata": {},
   "outputs": [
    {
     "name": "stdout",
     "output_type": "stream",
     "text": [
      "<class 'pandas.core.frame.DataFrame'>\n",
      "RangeIndex: 3787372 entries, 0 to 3787371\n",
      "Data columns (total 28 columns):\n",
      "fiscal_year                     object\n",
      "charge_num                      object\n",
      "state                           object\n",
      "num_employees_code              object\n",
      "num_employees                   object\n",
      "naics_code                      float64\n",
      "naics_desc                      object\n",
      "type_code                       object\n",
      "type                            object\n",
      "birth_date                      datetime64[ns]\n",
      "sex                             object\n",
      "date_received                   datetime64[ns]\n",
      "date_closed                     datetime64[ns]\n",
      "closure_code                    object\n",
      "closure_action                  object\n",
      "monetary_benefits               object\n",
      "statute_code                    object\n",
      "statute                         object\n",
      "basis_code                      object\n",
      "basis                           object\n",
      "issue_code                      object\n",
      "issue                           object\n",
      "court_filing_date               datetime64[ns]\n",
      "civil_action_num                object\n",
      "court                           object\n",
      "resolution_date                 datetime64[ns]\n",
      "case_type                       object\n",
      "litigation_monetary_benefits    object\n",
      "dtypes: datetime64[ns](5), float64(1), object(22)\n",
      "memory usage: 809.1+ MB\n"
     ]
    }
   ],
   "source": [
    "charges = pd.concat([charges, charges_10], ignore_index=True)\n",
    "charges.info()"
   ]
  },
  {
   "cell_type": "markdown",
   "metadata": {},
   "source": [
    "Convert the columns to their proper data types."
   ]
  },
  {
   "cell_type": "code",
   "execution_count": 9,
   "metadata": {},
   "outputs": [
    {
     "name": "stdout",
     "output_type": "stream",
     "text": [
      "<class 'pandas.core.frame.DataFrame'>\n",
      "RangeIndex: 3787372 entries, 0 to 3787371\n",
      "Data columns (total 28 columns):\n",
      "fiscal_year                     category\n",
      "charge_num                      object\n",
      "state                           category\n",
      "num_employees_code              category\n",
      "num_employees                   category\n",
      "naics_code                      category\n",
      "naics_desc                      category\n",
      "type_code                       category\n",
      "type                            category\n",
      "birth_date                      datetime64[ns]\n",
      "sex                             category\n",
      "date_received                   datetime64[ns]\n",
      "date_closed                     datetime64[ns]\n",
      "closure_code                    category\n",
      "closure_action                  category\n",
      "monetary_benefits               float32\n",
      "statute_code                    category\n",
      "statute                         category\n",
      "basis_code                      category\n",
      "basis                           category\n",
      "issue_code                      category\n",
      "issue                           category\n",
      "court_filing_date               datetime64[ns]\n",
      "civil_action_num                object\n",
      "court                           category\n",
      "resolution_date                 datetime64[ns]\n",
      "case_type                       category\n",
      "litigation_monetary_benefits    float32\n",
      "dtypes: category(19), datetime64[ns](5), float32(2), object(2)\n",
      "memory usage: 307.1+ MB\n"
     ]
    }
   ],
   "source": [
    "charges = charges.astype(dtype={\"fiscal_year\": \"category\", \"charge_num\": str, \"state\": \"category\",\n",
    "                            \"num_employees_code\": \"category\", \"num_employees\": \"category\",\n",
    "                            \"naics_code\": \"category\", \"naics_desc\": \"category\",\n",
    "                            \"type_code\": \"category\", \"type\": \"category\", \"sex\": \"category\",\n",
    "                            \"closure_code\": \"category\", \"closure_action\": \"category\",\n",
    "                            \"statute_code\": \"category\", \"statute\": \"category\",\n",
    "                            \"basis_code\": \"category\", \"basis\": \"category\", \"issue_code\": \"category\",\n",
    "                            \"issue\": \"category\", \"court\": \"category\", \"case_type\": \"category\"})\n",
    "charges[\"monetary_benefits\"] = pd.to_numeric(charges[\"monetary_benefits\"], errors=\"coerce\", downcast=\"float\")\n",
    "charges[\"litigation_monetary_benefits\"] = pd.to_numeric(charges[\"litigation_monetary_benefits\"], errors=\"coerce\", downcast=\"float\")\n",
    "charges.info()"
   ]
  },
  {
   "cell_type": "markdown",
   "metadata": {},
   "source": [
    "## How many alleged violations are we dealing with?"
   ]
  },
  {
   "cell_type": "code",
   "execution_count": 10,
   "metadata": {},
   "outputs": [
    {
     "data": {
      "text/plain": [
       "3787372"
      ]
     },
     "execution_count": 10,
     "metadata": {},
     "output_type": "execute_result"
    }
   ],
   "source": [
    "charges[\"charge_num\"].count()"
   ]
  },
  {
   "cell_type": "markdown",
   "metadata": {},
   "source": [
    "## And how many cases are we dealing with?"
   ]
  },
  {
   "cell_type": "code",
   "execution_count": 11,
   "metadata": {},
   "outputs": [
    {
     "data": {
      "text/plain": [
       "1056978"
      ]
     },
     "execution_count": 11,
     "metadata": {},
     "output_type": "execute_result"
    }
   ],
   "source": [
    "charges[\"charge_num\"].nunique()"
   ]
  },
  {
   "cell_type": "markdown",
   "metadata": {},
   "source": [
    "How many of these cases occurred in each year?"
   ]
  },
  {
   "cell_type": "code",
   "execution_count": 12,
   "metadata": {},
   "outputs": [
    {
     "data": {
      "text/html": [
       "<div>\n",
       "<style scoped>\n",
       "    .dataframe tbody tr th:only-of-type {\n",
       "        vertical-align: middle;\n",
       "    }\n",
       "\n",
       "    .dataframe tbody tr th {\n",
       "        vertical-align: top;\n",
       "    }\n",
       "\n",
       "    .dataframe thead th {\n",
       "        text-align: right;\n",
       "    }\n",
       "</style>\n",
       "<table border=\"1\" class=\"dataframe\">\n",
       "  <thead>\n",
       "    <tr style=\"text-align: right;\">\n",
       "      <th></th>\n",
       "      <th>fiscal_year</th>\n",
       "      <th>all_cases</th>\n",
       "    </tr>\n",
       "  </thead>\n",
       "  <tbody>\n",
       "    <tr>\n",
       "      <th>0</th>\n",
       "      <td>FY2010</td>\n",
       "      <td>104514</td>\n",
       "    </tr>\n",
       "    <tr>\n",
       "      <th>1</th>\n",
       "      <td>FY2011</td>\n",
       "      <td>146123</td>\n",
       "    </tr>\n",
       "    <tr>\n",
       "      <th>2</th>\n",
       "      <td>FY2012</td>\n",
       "      <td>146294</td>\n",
       "    </tr>\n",
       "    <tr>\n",
       "      <th>3</th>\n",
       "      <td>FY2013</td>\n",
       "      <td>139852</td>\n",
       "    </tr>\n",
       "    <tr>\n",
       "      <th>4</th>\n",
       "      <td>FY2014</td>\n",
       "      <td>134106</td>\n",
       "    </tr>\n",
       "    <tr>\n",
       "      <th>5</th>\n",
       "      <td>FY2015</td>\n",
       "      <td>130871</td>\n",
       "    </tr>\n",
       "    <tr>\n",
       "      <th>6</th>\n",
       "      <td>FY2016</td>\n",
       "      <td>132519</td>\n",
       "    </tr>\n",
       "    <tr>\n",
       "      <th>7</th>\n",
       "      <td>FY2017</td>\n",
       "      <td>122824</td>\n",
       "    </tr>\n",
       "  </tbody>\n",
       "</table>\n",
       "</div>"
      ],
      "text/plain": [
       "  fiscal_year  all_cases\n",
       "0      FY2010     104514\n",
       "1      FY2011     146123\n",
       "2      FY2012     146294\n",
       "3      FY2013     139852\n",
       "4      FY2014     134106\n",
       "5      FY2015     130871\n",
       "6      FY2016     132519\n",
       "7      FY2017     122824"
      ]
     },
     "execution_count": 12,
     "metadata": {},
     "output_type": "execute_result"
    }
   ],
   "source": [
    "all_cases_by_year = charges.groupby(\"fiscal_year\")[\"charge_num\"].nunique().reset_index()\n",
    "all_cases_by_year.rename(columns={\"charge_num\": \"all_cases\"}, inplace=True)\n",
    "all_cases_by_year"
   ]
  },
  {
   "cell_type": "markdown",
   "metadata": {},
   "source": [
    "How does this break down by basis?"
   ]
  },
  {
   "cell_type": "code",
   "execution_count": 13,
   "metadata": {},
   "outputs": [
    {
     "data": {
      "text/html": [
       "<div>\n",
       "<style scoped>\n",
       "    .dataframe tbody tr th:only-of-type {\n",
       "        vertical-align: middle;\n",
       "    }\n",
       "\n",
       "    .dataframe tbody tr th {\n",
       "        vertical-align: top;\n",
       "    }\n",
       "\n",
       "    .dataframe thead th {\n",
       "        text-align: right;\n",
       "    }\n",
       "</style>\n",
       "<table border=\"1\" class=\"dataframe\">\n",
       "  <thead>\n",
       "    <tr style=\"text-align: right;\">\n",
       "      <th></th>\n",
       "      <th>basis</th>\n",
       "      <th>all_cases</th>\n",
       "    </tr>\n",
       "  </thead>\n",
       "  <tbody>\n",
       "    <tr>\n",
       "      <th>74</th>\n",
       "      <td>Retaliation</td>\n",
       "      <td>412515</td>\n",
       "    </tr>\n",
       "    <tr>\n",
       "      <th>60</th>\n",
       "      <td>Race-Black/African American</td>\n",
       "      <td>279225</td>\n",
       "    </tr>\n",
       "    <tr>\n",
       "      <th>0</th>\n",
       "      <td>Age</td>\n",
       "      <td>231539</td>\n",
       "    </tr>\n",
       "    <tr>\n",
       "      <th>76</th>\n",
       "      <td>Sex-Female</td>\n",
       "      <td>203779</td>\n",
       "    </tr>\n",
       "    <tr>\n",
       "      <th>50</th>\n",
       "      <td>Other Disability</td>\n",
       "      <td>109168</td>\n",
       "    </tr>\n",
       "  </tbody>\n",
       "</table>\n",
       "</div>"
      ],
      "text/plain": [
       "                          basis  all_cases\n",
       "74                  Retaliation     412515\n",
       "60  Race-Black/African American     279225\n",
       "0                           Age     231539\n",
       "76                   Sex-Female     203779\n",
       "50             Other Disability     109168"
      ]
     },
     "execution_count": 13,
     "metadata": {},
     "output_type": "execute_result"
    }
   ],
   "source": [
    "all_cases_by_basis = charges.groupby([\"basis\"])[\"charge_num\"].nunique().reset_index()\n",
    "all_cases_by_basis.rename(columns={\"charge_num\": \"all_cases\"}, inplace=True)\n",
    "all_cases_by_basis.sort_values(\"all_cases\", ascending=False).head()"
   ]
  },
  {
   "cell_type": "markdown",
   "metadata": {},
   "source": [
    "## In how many cases did the EEOC find merit to the complaint?"
   ]
  },
  {
   "cell_type": "code",
   "execution_count": 14,
   "metadata": {},
   "outputs": [
    {
     "data": {
      "text/plain": [
       "17253"
      ]
     },
     "execution_count": 14,
     "metadata": {},
     "output_type": "execute_result"
    }
   ],
   "source": [
    "meritorious_outcomes = [\"Case Settled By Legal Unit\", \"Conciliation Failure\", \"Successful Conciliation\"]\n",
    "meritorious_cases = charges[charges[\"closure_action\"].isin(meritorious_outcomes)]\n",
    "meritorious_cases[\"charge_num\"].nunique()"
   ]
  },
  {
   "cell_type": "markdown",
   "metadata": {},
   "source": [
    "How many of these cases occurred in each year?"
   ]
  },
  {
   "cell_type": "code",
   "execution_count": 15,
   "metadata": {},
   "outputs": [
    {
     "data": {
      "text/html": [
       "<div>\n",
       "<style scoped>\n",
       "    .dataframe tbody tr th:only-of-type {\n",
       "        vertical-align: middle;\n",
       "    }\n",
       "\n",
       "    .dataframe tbody tr th {\n",
       "        vertical-align: top;\n",
       "    }\n",
       "\n",
       "    .dataframe thead th {\n",
       "        text-align: right;\n",
       "    }\n",
       "</style>\n",
       "<table border=\"1\" class=\"dataframe\">\n",
       "  <thead>\n",
       "    <tr style=\"text-align: right;\">\n",
       "      <th></th>\n",
       "      <th>fiscal_year</th>\n",
       "      <th>meritorious_cases</th>\n",
       "    </tr>\n",
       "  </thead>\n",
       "  <tbody>\n",
       "    <tr>\n",
       "      <th>0</th>\n",
       "      <td>FY2010</td>\n",
       "      <td>885</td>\n",
       "    </tr>\n",
       "    <tr>\n",
       "      <th>1</th>\n",
       "      <td>FY2011</td>\n",
       "      <td>4369</td>\n",
       "    </tr>\n",
       "    <tr>\n",
       "      <th>2</th>\n",
       "      <td>FY2012</td>\n",
       "      <td>3411</td>\n",
       "    </tr>\n",
       "    <tr>\n",
       "      <th>3</th>\n",
       "      <td>FY2013</td>\n",
       "      <td>2888</td>\n",
       "    </tr>\n",
       "    <tr>\n",
       "      <th>4</th>\n",
       "      <td>FY2014</td>\n",
       "      <td>2414</td>\n",
       "    </tr>\n",
       "    <tr>\n",
       "      <th>5</th>\n",
       "      <td>FY2015</td>\n",
       "      <td>1478</td>\n",
       "    </tr>\n",
       "    <tr>\n",
       "      <th>6</th>\n",
       "      <td>FY2016</td>\n",
       "      <td>1482</td>\n",
       "    </tr>\n",
       "    <tr>\n",
       "      <th>7</th>\n",
       "      <td>FY2017</td>\n",
       "      <td>327</td>\n",
       "    </tr>\n",
       "  </tbody>\n",
       "</table>\n",
       "</div>"
      ],
      "text/plain": [
       "  fiscal_year  meritorious_cases\n",
       "0      FY2010                885\n",
       "1      FY2011               4369\n",
       "2      FY2012               3411\n",
       "3      FY2013               2888\n",
       "4      FY2014               2414\n",
       "5      FY2015               1478\n",
       "6      FY2016               1482\n",
       "7      FY2017                327"
      ]
     },
     "execution_count": 15,
     "metadata": {},
     "output_type": "execute_result"
    }
   ],
   "source": [
    "meritorious_cases_by_year = meritorious_cases.groupby(\"fiscal_year\")[\"charge_num\"].nunique().reset_index()\n",
    "meritorious_cases_by_year.rename(columns={\"charge_num\": \"meritorious_cases\"}, inplace=True)\n",
    "meritorious_cases_by_year"
   ]
  },
  {
   "cell_type": "markdown",
   "metadata": {},
   "source": [
    "How does this break down by basis?"
   ]
  },
  {
   "cell_type": "code",
   "execution_count": 16,
   "metadata": {},
   "outputs": [
    {
     "data": {
      "text/html": [
       "<div>\n",
       "<style scoped>\n",
       "    .dataframe tbody tr th:only-of-type {\n",
       "        vertical-align: middle;\n",
       "    }\n",
       "\n",
       "    .dataframe tbody tr th {\n",
       "        vertical-align: top;\n",
       "    }\n",
       "\n",
       "    .dataframe thead th {\n",
       "        text-align: right;\n",
       "    }\n",
       "</style>\n",
       "<table border=\"1\" class=\"dataframe\">\n",
       "  <thead>\n",
       "    <tr style=\"text-align: right;\">\n",
       "      <th></th>\n",
       "      <th>basis</th>\n",
       "      <th>meritorious_cases</th>\n",
       "    </tr>\n",
       "  </thead>\n",
       "  <tbody>\n",
       "    <tr>\n",
       "      <th>74</th>\n",
       "      <td>Retaliation</td>\n",
       "      <td>6700</td>\n",
       "    </tr>\n",
       "    <tr>\n",
       "      <th>76</th>\n",
       "      <td>Sex-Female</td>\n",
       "      <td>3840</td>\n",
       "    </tr>\n",
       "    <tr>\n",
       "      <th>60</th>\n",
       "      <td>Race-Black/African American</td>\n",
       "      <td>3095</td>\n",
       "    </tr>\n",
       "    <tr>\n",
       "      <th>0</th>\n",
       "      <td>Age</td>\n",
       "      <td>2989</td>\n",
       "    </tr>\n",
       "    <tr>\n",
       "      <th>50</th>\n",
       "      <td>Other Disability</td>\n",
       "      <td>2188</td>\n",
       "    </tr>\n",
       "  </tbody>\n",
       "</table>\n",
       "</div>"
      ],
      "text/plain": [
       "                          basis  meritorious_cases\n",
       "74                  Retaliation               6700\n",
       "76                   Sex-Female               3840\n",
       "60  Race-Black/African American               3095\n",
       "0                           Age               2989\n",
       "50             Other Disability               2188"
      ]
     },
     "execution_count": 16,
     "metadata": {},
     "output_type": "execute_result"
    }
   ],
   "source": [
    "meritorious_cases_by_basis = meritorious_cases.groupby([\"basis\"])[\"charge_num\"].nunique().reset_index()\n",
    "meritorious_cases_by_basis.rename(columns={\"charge_num\": \"meritorious_cases\"}, inplace=True)\n",
    "meritorious_cases_by_basis.sort_values(\"meritorious_cases\", ascending=False).head()"
   ]
  },
  {
   "cell_type": "markdown",
   "metadata": {},
   "source": [
    "## And in how many cases did the EEOC grant some form of relief (including non-monetary relief) to the complainant?"
   ]
  },
  {
   "cell_type": "code",
   "execution_count": 17,
   "metadata": {},
   "outputs": [
    {
     "data": {
      "text/plain": [
       "89577"
      ]
     },
     "execution_count": 17,
     "metadata": {},
     "output_type": "execute_result"
    }
   ],
   "source": [
    "relief_outcomes = [\"Settlement With Benefits\", \"Settlement With Benefits\", \"Successful Conciliation\", \"Case Settled By Legal Unit\"]\n",
    "relief_cases = charges[charges[\"closure_action\"].isin(relief_outcomes)]\n",
    "relief_cases[\"charge_num\"].nunique()"
   ]
  },
  {
   "cell_type": "markdown",
   "metadata": {},
   "source": [
    "How many of these cases occurred in each year?"
   ]
  },
  {
   "cell_type": "code",
   "execution_count": 18,
   "metadata": {},
   "outputs": [
    {
     "data": {
      "text/html": [
       "<div>\n",
       "<style scoped>\n",
       "    .dataframe tbody tr th:only-of-type {\n",
       "        vertical-align: middle;\n",
       "    }\n",
       "\n",
       "    .dataframe tbody tr th {\n",
       "        vertical-align: top;\n",
       "    }\n",
       "\n",
       "    .dataframe thead th {\n",
       "        text-align: right;\n",
       "    }\n",
       "</style>\n",
       "<table border=\"1\" class=\"dataframe\">\n",
       "  <thead>\n",
       "    <tr style=\"text-align: right;\">\n",
       "      <th></th>\n",
       "      <th>fiscal_year</th>\n",
       "      <th>relief_cases</th>\n",
       "    </tr>\n",
       "  </thead>\n",
       "  <tbody>\n",
       "    <tr>\n",
       "      <th>0</th>\n",
       "      <td>FY2010</td>\n",
       "      <td>8988</td>\n",
       "    </tr>\n",
       "    <tr>\n",
       "      <th>1</th>\n",
       "      <td>FY2011</td>\n",
       "      <td>15442</td>\n",
       "    </tr>\n",
       "    <tr>\n",
       "      <th>2</th>\n",
       "      <td>FY2012</td>\n",
       "      <td>14164</td>\n",
       "    </tr>\n",
       "    <tr>\n",
       "      <th>3</th>\n",
       "      <td>FY2013</td>\n",
       "      <td>12912</td>\n",
       "    </tr>\n",
       "    <tr>\n",
       "      <th>4</th>\n",
       "      <td>FY2014</td>\n",
       "      <td>11762</td>\n",
       "    </tr>\n",
       "    <tr>\n",
       "      <th>5</th>\n",
       "      <td>FY2015</td>\n",
       "      <td>10571</td>\n",
       "    </tr>\n",
       "    <tr>\n",
       "      <th>6</th>\n",
       "      <td>FY2016</td>\n",
       "      <td>9785</td>\n",
       "    </tr>\n",
       "    <tr>\n",
       "      <th>7</th>\n",
       "      <td>FY2017</td>\n",
       "      <td>5953</td>\n",
       "    </tr>\n",
       "  </tbody>\n",
       "</table>\n",
       "</div>"
      ],
      "text/plain": [
       "  fiscal_year  relief_cases\n",
       "0      FY2010          8988\n",
       "1      FY2011         15442\n",
       "2      FY2012         14164\n",
       "3      FY2013         12912\n",
       "4      FY2014         11762\n",
       "5      FY2015         10571\n",
       "6      FY2016          9785\n",
       "7      FY2017          5953"
      ]
     },
     "execution_count": 18,
     "metadata": {},
     "output_type": "execute_result"
    }
   ],
   "source": [
    "relief_cases_by_year = relief_cases.groupby(\"fiscal_year\")[\"charge_num\"].nunique().reset_index()\n",
    "relief_cases_by_year.rename(columns={\"charge_num\": \"relief_cases\"}, inplace=True)\n",
    "relief_cases_by_year"
   ]
  },
  {
   "cell_type": "markdown",
   "metadata": {},
   "source": [
    "How does this break down by basis?"
   ]
  },
  {
   "cell_type": "code",
   "execution_count": 19,
   "metadata": {},
   "outputs": [
    {
     "data": {
      "text/html": [
       "<div>\n",
       "<style scoped>\n",
       "    .dataframe tbody tr th:only-of-type {\n",
       "        vertical-align: middle;\n",
       "    }\n",
       "\n",
       "    .dataframe tbody tr th {\n",
       "        vertical-align: top;\n",
       "    }\n",
       "\n",
       "    .dataframe thead th {\n",
       "        text-align: right;\n",
       "    }\n",
       "</style>\n",
       "<table border=\"1\" class=\"dataframe\">\n",
       "  <thead>\n",
       "    <tr style=\"text-align: right;\">\n",
       "      <th></th>\n",
       "      <th>basis</th>\n",
       "      <th>relief_cases</th>\n",
       "    </tr>\n",
       "  </thead>\n",
       "  <tbody>\n",
       "    <tr>\n",
       "      <th>74</th>\n",
       "      <td>Retaliation</td>\n",
       "      <td>32550</td>\n",
       "    </tr>\n",
       "    <tr>\n",
       "      <th>60</th>\n",
       "      <td>Race-Black/African American</td>\n",
       "      <td>21067</td>\n",
       "    </tr>\n",
       "    <tr>\n",
       "      <th>76</th>\n",
       "      <td>Sex-Female</td>\n",
       "      <td>18731</td>\n",
       "    </tr>\n",
       "    <tr>\n",
       "      <th>0</th>\n",
       "      <td>Age</td>\n",
       "      <td>17551</td>\n",
       "    </tr>\n",
       "    <tr>\n",
       "      <th>50</th>\n",
       "      <td>Other Disability</td>\n",
       "      <td>10079</td>\n",
       "    </tr>\n",
       "  </tbody>\n",
       "</table>\n",
       "</div>"
      ],
      "text/plain": [
       "                          basis  relief_cases\n",
       "74                  Retaliation         32550\n",
       "60  Race-Black/African American         21067\n",
       "76                   Sex-Female         18731\n",
       "0                           Age         17551\n",
       "50             Other Disability         10079"
      ]
     },
     "execution_count": 19,
     "metadata": {},
     "output_type": "execute_result"
    }
   ],
   "source": [
    "relief_cases_by_basis = relief_cases.groupby(\"basis\")[\"charge_num\"].nunique().reset_index()\n",
    "relief_cases_by_basis.rename(columns={\"charge_num\": \"relief_cases\"}, inplace=True)\n",
    "relief_cases_by_basis.sort_values(\"relief_cases\", ascending=False).head()"
   ]
  },
  {
   "cell_type": "markdown",
   "metadata": {},
   "source": [
    "## And in how many cases did a worker see any monetary benefits?"
   ]
  },
  {
   "cell_type": "code",
   "execution_count": 20,
   "metadata": {},
   "outputs": [
    {
     "data": {
      "text/plain": [
       "112198"
      ]
     },
     "execution_count": 20,
     "metadata": {},
     "output_type": "execute_result"
    }
   ],
   "source": [
    "monetary_benefits_cases = charges[charges[\"monetary_benefits\"] > 0]\n",
    "monetary_benefits_cases[\"charge_num\"].nunique()"
   ]
  },
  {
   "cell_type": "markdown",
   "metadata": {},
   "source": [
    "How much money did they get?"
   ]
  },
  {
   "cell_type": "code",
   "execution_count": 21,
   "metadata": {},
   "outputs": [
    {
     "data": {
      "text/plain": [
       "2354293800.0"
      ]
     },
     "execution_count": 21,
     "metadata": {},
     "output_type": "execute_result"
    }
   ],
   "source": [
    "monetary_benefits_cases.groupby([\"charge_num\"])[\"monetary_benefits\"].mean().sum()"
   ]
  },
  {
   "cell_type": "markdown",
   "metadata": {},
   "source": [
    "How many of these cases occurred in each year?"
   ]
  },
  {
   "cell_type": "code",
   "execution_count": 22,
   "metadata": {},
   "outputs": [
    {
     "data": {
      "text/html": [
       "<div>\n",
       "<style scoped>\n",
       "    .dataframe tbody tr th:only-of-type {\n",
       "        vertical-align: middle;\n",
       "    }\n",
       "\n",
       "    .dataframe tbody tr th {\n",
       "        vertical-align: top;\n",
       "    }\n",
       "\n",
       "    .dataframe thead th {\n",
       "        text-align: right;\n",
       "    }\n",
       "</style>\n",
       "<table border=\"1\" class=\"dataframe\">\n",
       "  <thead>\n",
       "    <tr style=\"text-align: right;\">\n",
       "      <th></th>\n",
       "      <th>fiscal_year</th>\n",
       "      <th>monetary_benefits_cases</th>\n",
       "    </tr>\n",
       "  </thead>\n",
       "  <tbody>\n",
       "    <tr>\n",
       "      <th>0</th>\n",
       "      <td>FY2010</td>\n",
       "      <td>1008</td>\n",
       "    </tr>\n",
       "    <tr>\n",
       "      <th>1</th>\n",
       "      <td>FY2011</td>\n",
       "      <td>19415</td>\n",
       "    </tr>\n",
       "    <tr>\n",
       "      <th>2</th>\n",
       "      <td>FY2012</td>\n",
       "      <td>18256</td>\n",
       "    </tr>\n",
       "    <tr>\n",
       "      <th>3</th>\n",
       "      <td>FY2013</td>\n",
       "      <td>17455</td>\n",
       "    </tr>\n",
       "    <tr>\n",
       "      <th>4</th>\n",
       "      <td>FY2014</td>\n",
       "      <td>16445</td>\n",
       "    </tr>\n",
       "    <tr>\n",
       "      <th>5</th>\n",
       "      <td>FY2015</td>\n",
       "      <td>15325</td>\n",
       "    </tr>\n",
       "    <tr>\n",
       "      <th>6</th>\n",
       "      <td>FY2016</td>\n",
       "      <td>14883</td>\n",
       "    </tr>\n",
       "    <tr>\n",
       "      <th>7</th>\n",
       "      <td>FY2017</td>\n",
       "      <td>9411</td>\n",
       "    </tr>\n",
       "  </tbody>\n",
       "</table>\n",
       "</div>"
      ],
      "text/plain": [
       "  fiscal_year  monetary_benefits_cases\n",
       "0      FY2010                     1008\n",
       "1      FY2011                    19415\n",
       "2      FY2012                    18256\n",
       "3      FY2013                    17455\n",
       "4      FY2014                    16445\n",
       "5      FY2015                    15325\n",
       "6      FY2016                    14883\n",
       "7      FY2017                     9411"
      ]
     },
     "execution_count": 22,
     "metadata": {},
     "output_type": "execute_result"
    }
   ],
   "source": [
    "monetary_benefits_cases_by_year = monetary_benefits_cases.groupby(\"fiscal_year\")[\"charge_num\"].nunique().reset_index()\n",
    "monetary_benefits_cases_by_year.rename(columns={\"charge_num\": \"monetary_benefits_cases\"}, inplace=True)\n",
    "monetary_benefits_cases_by_year"
   ]
  },
  {
   "cell_type": "markdown",
   "metadata": {},
   "source": [
    "How does this break down by basis?"
   ]
  },
  {
   "cell_type": "code",
   "execution_count": 23,
   "metadata": {},
   "outputs": [
    {
     "data": {
      "text/html": [
       "<div>\n",
       "<style scoped>\n",
       "    .dataframe tbody tr th:only-of-type {\n",
       "        vertical-align: middle;\n",
       "    }\n",
       "\n",
       "    .dataframe tbody tr th {\n",
       "        vertical-align: top;\n",
       "    }\n",
       "\n",
       "    .dataframe thead th {\n",
       "        text-align: right;\n",
       "    }\n",
       "</style>\n",
       "<table border=\"1\" class=\"dataframe\">\n",
       "  <thead>\n",
       "    <tr style=\"text-align: right;\">\n",
       "      <th></th>\n",
       "      <th>basis</th>\n",
       "      <th>monetary_benefits_cases</th>\n",
       "    </tr>\n",
       "  </thead>\n",
       "  <tbody>\n",
       "    <tr>\n",
       "      <th>74</th>\n",
       "      <td>Retaliation</td>\n",
       "      <td>44311</td>\n",
       "    </tr>\n",
       "    <tr>\n",
       "      <th>60</th>\n",
       "      <td>Race-Black/African American</td>\n",
       "      <td>26514</td>\n",
       "    </tr>\n",
       "    <tr>\n",
       "      <th>76</th>\n",
       "      <td>Sex-Female</td>\n",
       "      <td>24606</td>\n",
       "    </tr>\n",
       "    <tr>\n",
       "      <th>0</th>\n",
       "      <td>Age</td>\n",
       "      <td>22668</td>\n",
       "    </tr>\n",
       "    <tr>\n",
       "      <th>50</th>\n",
       "      <td>Other Disability</td>\n",
       "      <td>12473</td>\n",
       "    </tr>\n",
       "  </tbody>\n",
       "</table>\n",
       "</div>"
      ],
      "text/plain": [
       "                          basis  monetary_benefits_cases\n",
       "74                  Retaliation                    44311\n",
       "60  Race-Black/African American                    26514\n",
       "76                   Sex-Female                    24606\n",
       "0                           Age                    22668\n",
       "50             Other Disability                    12473"
      ]
     },
     "execution_count": 23,
     "metadata": {},
     "output_type": "execute_result"
    }
   ],
   "source": [
    "monetary_benefits_cases_by_basis = monetary_benefits_cases.groupby(\"basis\")[\"charge_num\"].nunique().reset_index()\n",
    "monetary_benefits_cases_by_basis.rename(columns={\"charge_num\": \"monetary_benefits_cases\"}, inplace=True)\n",
    "monetary_benefits_cases_by_basis.sort_values(\"monetary_benefits_cases\", ascending=False).head()"
   ]
  },
  {
   "cell_type": "markdown",
   "metadata": {},
   "source": [
    "## Combine the data by year."
   ]
  },
  {
   "cell_type": "code",
   "execution_count": 24,
   "metadata": {},
   "outputs": [
    {
     "data": {
      "text/html": [
       "<div>\n",
       "<style scoped>\n",
       "    .dataframe tbody tr th:only-of-type {\n",
       "        vertical-align: middle;\n",
       "    }\n",
       "\n",
       "    .dataframe tbody tr th {\n",
       "        vertical-align: top;\n",
       "    }\n",
       "\n",
       "    .dataframe thead th {\n",
       "        text-align: right;\n",
       "    }\n",
       "</style>\n",
       "<table border=\"1\" class=\"dataframe\">\n",
       "  <thead>\n",
       "    <tr style=\"text-align: right;\">\n",
       "      <th></th>\n",
       "      <th>fiscal_year</th>\n",
       "      <th>all_cases</th>\n",
       "      <th>meritorious_cases</th>\n",
       "      <th>relief_cases</th>\n",
       "      <th>monetary_benefits_cases</th>\n",
       "    </tr>\n",
       "  </thead>\n",
       "  <tbody>\n",
       "    <tr>\n",
       "      <th>0</th>\n",
       "      <td>FY2010</td>\n",
       "      <td>104514</td>\n",
       "      <td>885</td>\n",
       "      <td>8988</td>\n",
       "      <td>1008</td>\n",
       "    </tr>\n",
       "    <tr>\n",
       "      <th>1</th>\n",
       "      <td>FY2011</td>\n",
       "      <td>146123</td>\n",
       "      <td>4369</td>\n",
       "      <td>15442</td>\n",
       "      <td>19415</td>\n",
       "    </tr>\n",
       "    <tr>\n",
       "      <th>2</th>\n",
       "      <td>FY2012</td>\n",
       "      <td>146294</td>\n",
       "      <td>3411</td>\n",
       "      <td>14164</td>\n",
       "      <td>18256</td>\n",
       "    </tr>\n",
       "    <tr>\n",
       "      <th>3</th>\n",
       "      <td>FY2013</td>\n",
       "      <td>139852</td>\n",
       "      <td>2888</td>\n",
       "      <td>12912</td>\n",
       "      <td>17455</td>\n",
       "    </tr>\n",
       "    <tr>\n",
       "      <th>4</th>\n",
       "      <td>FY2014</td>\n",
       "      <td>134106</td>\n",
       "      <td>2414</td>\n",
       "      <td>11762</td>\n",
       "      <td>16445</td>\n",
       "    </tr>\n",
       "    <tr>\n",
       "      <th>5</th>\n",
       "      <td>FY2015</td>\n",
       "      <td>130871</td>\n",
       "      <td>1478</td>\n",
       "      <td>10571</td>\n",
       "      <td>15325</td>\n",
       "    </tr>\n",
       "    <tr>\n",
       "      <th>6</th>\n",
       "      <td>FY2016</td>\n",
       "      <td>132519</td>\n",
       "      <td>1482</td>\n",
       "      <td>9785</td>\n",
       "      <td>14883</td>\n",
       "    </tr>\n",
       "    <tr>\n",
       "      <th>7</th>\n",
       "      <td>FY2017</td>\n",
       "      <td>122824</td>\n",
       "      <td>327</td>\n",
       "      <td>5953</td>\n",
       "      <td>9411</td>\n",
       "    </tr>\n",
       "  </tbody>\n",
       "</table>\n",
       "</div>"
      ],
      "text/plain": [
       "  fiscal_year  all_cases  meritorious_cases  relief_cases  \\\n",
       "0      FY2010     104514                885          8988   \n",
       "1      FY2011     146123               4369         15442   \n",
       "2      FY2012     146294               3411         14164   \n",
       "3      FY2013     139852               2888         12912   \n",
       "4      FY2014     134106               2414         11762   \n",
       "5      FY2015     130871               1478         10571   \n",
       "6      FY2016     132519               1482          9785   \n",
       "7      FY2017     122824                327          5953   \n",
       "\n",
       "   monetary_benefits_cases  \n",
       "0                     1008  \n",
       "1                    19415  \n",
       "2                    18256  \n",
       "3                    17455  \n",
       "4                    16445  \n",
       "5                    15325  \n",
       "6                    14883  \n",
       "7                     9411  "
      ]
     },
     "execution_count": 24,
     "metadata": {},
     "output_type": "execute_result"
    }
   ],
   "source": [
    "cases_by_year_dfs = [all_cases_by_year, meritorious_cases_by_year, relief_cases_by_year, monetary_benefits_cases_by_year]\n",
    "cases_by_year = reduce(lambda left, right: pd.merge(left, right, on=\"fiscal_year\"), cases_by_year_dfs)\n",
    "cases_by_year"
   ]
  },
  {
   "cell_type": "markdown",
   "metadata": {},
   "source": [
    "Calculate the proportion of all cases that fall into each category each fiscal year."
   ]
  },
  {
   "cell_type": "code",
   "execution_count": 25,
   "metadata": {},
   "outputs": [
    {
     "data": {
      "text/html": [
       "<div>\n",
       "<style scoped>\n",
       "    .dataframe tbody tr th:only-of-type {\n",
       "        vertical-align: middle;\n",
       "    }\n",
       "\n",
       "    .dataframe tbody tr th {\n",
       "        vertical-align: top;\n",
       "    }\n",
       "\n",
       "    .dataframe thead th {\n",
       "        text-align: right;\n",
       "    }\n",
       "</style>\n",
       "<table border=\"1\" class=\"dataframe\">\n",
       "  <thead>\n",
       "    <tr style=\"text-align: right;\">\n",
       "      <th></th>\n",
       "      <th>fiscal_year</th>\n",
       "      <th>all_cases</th>\n",
       "      <th>meritorious_cases</th>\n",
       "      <th>pct_all_cases_meritorious</th>\n",
       "      <th>relief_cases</th>\n",
       "      <th>pct_all_cases_relief</th>\n",
       "      <th>monetary_benefits_cases</th>\n",
       "      <th>pct_all_cases_monetary_benefits</th>\n",
       "    </tr>\n",
       "  </thead>\n",
       "  <tbody>\n",
       "    <tr>\n",
       "      <th>0</th>\n",
       "      <td>FY2010</td>\n",
       "      <td>104514</td>\n",
       "      <td>885</td>\n",
       "      <td>0.01</td>\n",
       "      <td>8988</td>\n",
       "      <td>0.09</td>\n",
       "      <td>1008</td>\n",
       "      <td>0.01</td>\n",
       "    </tr>\n",
       "    <tr>\n",
       "      <th>1</th>\n",
       "      <td>FY2011</td>\n",
       "      <td>146123</td>\n",
       "      <td>4369</td>\n",
       "      <td>0.03</td>\n",
       "      <td>15442</td>\n",
       "      <td>0.11</td>\n",
       "      <td>19415</td>\n",
       "      <td>0.13</td>\n",
       "    </tr>\n",
       "    <tr>\n",
       "      <th>2</th>\n",
       "      <td>FY2012</td>\n",
       "      <td>146294</td>\n",
       "      <td>3411</td>\n",
       "      <td>0.02</td>\n",
       "      <td>14164</td>\n",
       "      <td>0.10</td>\n",
       "      <td>18256</td>\n",
       "      <td>0.12</td>\n",
       "    </tr>\n",
       "    <tr>\n",
       "      <th>3</th>\n",
       "      <td>FY2013</td>\n",
       "      <td>139852</td>\n",
       "      <td>2888</td>\n",
       "      <td>0.02</td>\n",
       "      <td>12912</td>\n",
       "      <td>0.09</td>\n",
       "      <td>17455</td>\n",
       "      <td>0.12</td>\n",
       "    </tr>\n",
       "    <tr>\n",
       "      <th>4</th>\n",
       "      <td>FY2014</td>\n",
       "      <td>134106</td>\n",
       "      <td>2414</td>\n",
       "      <td>0.02</td>\n",
       "      <td>11762</td>\n",
       "      <td>0.09</td>\n",
       "      <td>16445</td>\n",
       "      <td>0.12</td>\n",
       "    </tr>\n",
       "    <tr>\n",
       "      <th>5</th>\n",
       "      <td>FY2015</td>\n",
       "      <td>130871</td>\n",
       "      <td>1478</td>\n",
       "      <td>0.01</td>\n",
       "      <td>10571</td>\n",
       "      <td>0.08</td>\n",
       "      <td>15325</td>\n",
       "      <td>0.12</td>\n",
       "    </tr>\n",
       "    <tr>\n",
       "      <th>6</th>\n",
       "      <td>FY2016</td>\n",
       "      <td>132519</td>\n",
       "      <td>1482</td>\n",
       "      <td>0.01</td>\n",
       "      <td>9785</td>\n",
       "      <td>0.07</td>\n",
       "      <td>14883</td>\n",
       "      <td>0.11</td>\n",
       "    </tr>\n",
       "    <tr>\n",
       "      <th>7</th>\n",
       "      <td>FY2017</td>\n",
       "      <td>122824</td>\n",
       "      <td>327</td>\n",
       "      <td>0.00</td>\n",
       "      <td>5953</td>\n",
       "      <td>0.05</td>\n",
       "      <td>9411</td>\n",
       "      <td>0.08</td>\n",
       "    </tr>\n",
       "  </tbody>\n",
       "</table>\n",
       "</div>"
      ],
      "text/plain": [
       "  fiscal_year  all_cases  meritorious_cases  pct_all_cases_meritorious  \\\n",
       "0      FY2010     104514                885                       0.01   \n",
       "1      FY2011     146123               4369                       0.03   \n",
       "2      FY2012     146294               3411                       0.02   \n",
       "3      FY2013     139852               2888                       0.02   \n",
       "4      FY2014     134106               2414                       0.02   \n",
       "5      FY2015     130871               1478                       0.01   \n",
       "6      FY2016     132519               1482                       0.01   \n",
       "7      FY2017     122824                327                       0.00   \n",
       "\n",
       "   relief_cases  pct_all_cases_relief  monetary_benefits_cases  \\\n",
       "0          8988                  0.09                     1008   \n",
       "1         15442                  0.11                    19415   \n",
       "2         14164                  0.10                    18256   \n",
       "3         12912                  0.09                    17455   \n",
       "4         11762                  0.09                    16445   \n",
       "5         10571                  0.08                    15325   \n",
       "6          9785                  0.07                    14883   \n",
       "7          5953                  0.05                     9411   \n",
       "\n",
       "   pct_all_cases_monetary_benefits  \n",
       "0                             0.01  \n",
       "1                             0.13  \n",
       "2                             0.12  \n",
       "3                             0.12  \n",
       "4                             0.12  \n",
       "5                             0.12  \n",
       "6                             0.11  \n",
       "7                             0.08  "
      ]
     },
     "execution_count": 25,
     "metadata": {},
     "output_type": "execute_result"
    }
   ],
   "source": [
    "cases_by_year[\"pct_all_cases_meritorious\"] = cases_by_year[\"meritorious_cases\"] / cases_by_year[\"all_cases\"]\n",
    "cases_by_year[\"pct_all_cases_relief\"] = cases_by_year[\"relief_cases\"] / cases_by_year[\"all_cases\"]\n",
    "cases_by_year[\"pct_all_cases_monetary_benefits\"] = cases_by_year[\"monetary_benefits_cases\"] / cases_by_year[\"all_cases\"]\n",
    "cases_by_year = cases_by_year[[\"fiscal_year\", \"all_cases\", \"meritorious_cases\", \"pct_all_cases_meritorious\", \"relief_cases\", \"pct_all_cases_relief\", \"monetary_benefits_cases\", \"pct_all_cases_monetary_benefits\"]]\n",
    "cases_by_year"
   ]
  },
  {
   "cell_type": "markdown",
   "metadata": {},
   "source": [
    "## Combine the data by basis."
   ]
  },
  {
   "cell_type": "code",
   "execution_count": 26,
   "metadata": {},
   "outputs": [
    {
     "data": {
      "text/html": [
       "<div>\n",
       "<style scoped>\n",
       "    .dataframe tbody tr th:only-of-type {\n",
       "        vertical-align: middle;\n",
       "    }\n",
       "\n",
       "    .dataframe tbody tr th {\n",
       "        vertical-align: top;\n",
       "    }\n",
       "\n",
       "    .dataframe thead th {\n",
       "        text-align: right;\n",
       "    }\n",
       "</style>\n",
       "<table border=\"1\" class=\"dataframe\">\n",
       "  <thead>\n",
       "    <tr style=\"text-align: right;\">\n",
       "      <th></th>\n",
       "      <th>basis</th>\n",
       "      <th>all_cases</th>\n",
       "      <th>meritorious_cases</th>\n",
       "      <th>relief_cases</th>\n",
       "      <th>monetary_benefits_cases</th>\n",
       "    </tr>\n",
       "  </thead>\n",
       "  <tbody>\n",
       "    <tr>\n",
       "      <th>74</th>\n",
       "      <td>Retaliation</td>\n",
       "      <td>412515</td>\n",
       "      <td>6700</td>\n",
       "      <td>32550</td>\n",
       "      <td>44311</td>\n",
       "    </tr>\n",
       "    <tr>\n",
       "      <th>60</th>\n",
       "      <td>Race-Black/African American</td>\n",
       "      <td>279225</td>\n",
       "      <td>3095</td>\n",
       "      <td>21067</td>\n",
       "      <td>26514</td>\n",
       "    </tr>\n",
       "    <tr>\n",
       "      <th>0</th>\n",
       "      <td>Age</td>\n",
       "      <td>231539</td>\n",
       "      <td>2989</td>\n",
       "      <td>17551</td>\n",
       "      <td>22668</td>\n",
       "    </tr>\n",
       "    <tr>\n",
       "      <th>76</th>\n",
       "      <td>Sex-Female</td>\n",
       "      <td>203779</td>\n",
       "      <td>3840</td>\n",
       "      <td>18731</td>\n",
       "      <td>24606</td>\n",
       "    </tr>\n",
       "    <tr>\n",
       "      <th>50</th>\n",
       "      <td>Other Disability</td>\n",
       "      <td>109168</td>\n",
       "      <td>2188</td>\n",
       "      <td>10079</td>\n",
       "      <td>12473</td>\n",
       "    </tr>\n",
       "  </tbody>\n",
       "</table>\n",
       "</div>"
      ],
      "text/plain": [
       "                          basis  all_cases  meritorious_cases  relief_cases  \\\n",
       "74                  Retaliation     412515               6700         32550   \n",
       "60  Race-Black/African American     279225               3095         21067   \n",
       "0                           Age     231539               2989         17551   \n",
       "76                   Sex-Female     203779               3840         18731   \n",
       "50             Other Disability     109168               2188         10079   \n",
       "\n",
       "    monetary_benefits_cases  \n",
       "74                    44311  \n",
       "60                    26514  \n",
       "0                     22668  \n",
       "76                    24606  \n",
       "50                    12473  "
      ]
     },
     "execution_count": 26,
     "metadata": {},
     "output_type": "execute_result"
    }
   ],
   "source": [
    "cases_by_basis_dfs = [all_cases_by_basis, meritorious_cases_by_basis, relief_cases_by_basis, monetary_benefits_cases_by_basis]\n",
    "cases_by_basis = reduce(lambda left, right: pd.merge(left, right, on=\"basis\"), cases_by_basis_dfs)\n",
    "cases_by_basis.sort_values(\"all_cases\", ascending=False).head()"
   ]
  },
  {
   "cell_type": "markdown",
   "metadata": {},
   "source": [
    "Calculate the proportion of all cases that fall into each category by basis."
   ]
  },
  {
   "cell_type": "code",
   "execution_count": 27,
   "metadata": {},
   "outputs": [
    {
     "data": {
      "text/html": [
       "<div>\n",
       "<style scoped>\n",
       "    .dataframe tbody tr th:only-of-type {\n",
       "        vertical-align: middle;\n",
       "    }\n",
       "\n",
       "    .dataframe tbody tr th {\n",
       "        vertical-align: top;\n",
       "    }\n",
       "\n",
       "    .dataframe thead th {\n",
       "        text-align: right;\n",
       "    }\n",
       "</style>\n",
       "<table border=\"1\" class=\"dataframe\">\n",
       "  <thead>\n",
       "    <tr style=\"text-align: right;\">\n",
       "      <th></th>\n",
       "      <th>basis</th>\n",
       "      <th>all_cases</th>\n",
       "      <th>meritorious_cases</th>\n",
       "      <th>pct_all_cases_meritorious</th>\n",
       "      <th>relief_cases</th>\n",
       "      <th>pct_all_cases_relief</th>\n",
       "      <th>monetary_benefits_cases</th>\n",
       "      <th>pct_all_cases_monetary_benefits</th>\n",
       "    </tr>\n",
       "  </thead>\n",
       "  <tbody>\n",
       "    <tr>\n",
       "      <th>74</th>\n",
       "      <td>Retaliation</td>\n",
       "      <td>412515</td>\n",
       "      <td>6700</td>\n",
       "      <td>0.02</td>\n",
       "      <td>32550</td>\n",
       "      <td>0.08</td>\n",
       "      <td>44311</td>\n",
       "      <td>0.11</td>\n",
       "    </tr>\n",
       "    <tr>\n",
       "      <th>60</th>\n",
       "      <td>Race-Black/African American</td>\n",
       "      <td>279225</td>\n",
       "      <td>3095</td>\n",
       "      <td>0.01</td>\n",
       "      <td>21067</td>\n",
       "      <td>0.08</td>\n",
       "      <td>26514</td>\n",
       "      <td>0.09</td>\n",
       "    </tr>\n",
       "    <tr>\n",
       "      <th>0</th>\n",
       "      <td>Age</td>\n",
       "      <td>231539</td>\n",
       "      <td>2989</td>\n",
       "      <td>0.01</td>\n",
       "      <td>17551</td>\n",
       "      <td>0.08</td>\n",
       "      <td>22668</td>\n",
       "      <td>0.10</td>\n",
       "    </tr>\n",
       "    <tr>\n",
       "      <th>76</th>\n",
       "      <td>Sex-Female</td>\n",
       "      <td>203779</td>\n",
       "      <td>3840</td>\n",
       "      <td>0.02</td>\n",
       "      <td>18731</td>\n",
       "      <td>0.09</td>\n",
       "      <td>24606</td>\n",
       "      <td>0.12</td>\n",
       "    </tr>\n",
       "    <tr>\n",
       "      <th>50</th>\n",
       "      <td>Other Disability</td>\n",
       "      <td>109168</td>\n",
       "      <td>2188</td>\n",
       "      <td>0.02</td>\n",
       "      <td>10079</td>\n",
       "      <td>0.09</td>\n",
       "      <td>12473</td>\n",
       "      <td>0.11</td>\n",
       "    </tr>\n",
       "  </tbody>\n",
       "</table>\n",
       "</div>"
      ],
      "text/plain": [
       "                          basis  all_cases  meritorious_cases  \\\n",
       "74                  Retaliation     412515               6700   \n",
       "60  Race-Black/African American     279225               3095   \n",
       "0                           Age     231539               2989   \n",
       "76                   Sex-Female     203779               3840   \n",
       "50             Other Disability     109168               2188   \n",
       "\n",
       "    pct_all_cases_meritorious  relief_cases  pct_all_cases_relief  \\\n",
       "74                       0.02         32550                  0.08   \n",
       "60                       0.01         21067                  0.08   \n",
       "0                        0.01         17551                  0.08   \n",
       "76                       0.02         18731                  0.09   \n",
       "50                       0.02         10079                  0.09   \n",
       "\n",
       "    monetary_benefits_cases  pct_all_cases_monetary_benefits  \n",
       "74                    44311                             0.11  \n",
       "60                    26514                             0.09  \n",
       "0                     22668                             0.10  \n",
       "76                    24606                             0.12  \n",
       "50                    12473                             0.11  "
      ]
     },
     "execution_count": 27,
     "metadata": {},
     "output_type": "execute_result"
    }
   ],
   "source": [
    "cases_by_basis[\"pct_all_cases_meritorious\"] = cases_by_basis[\"meritorious_cases\"] / cases_by_basis[\"all_cases\"]\n",
    "cases_by_basis[\"pct_all_cases_relief\"] = cases_by_basis[\"relief_cases\"] / cases_by_basis[\"all_cases\"]\n",
    "cases_by_basis[\"pct_all_cases_monetary_benefits\"] = cases_by_basis[\"monetary_benefits_cases\"] / cases_by_basis[\"all_cases\"]\n",
    "cases_by_basis = cases_by_basis[[\"basis\", \"all_cases\", \"meritorious_cases\", \"pct_all_cases_meritorious\", \"relief_cases\", \"pct_all_cases_relief\", \"monetary_benefits_cases\", \"pct_all_cases_monetary_benefits\"]]\n",
    "cases_by_basis.sort_values(\"all_cases\", ascending=False).head()"
   ]
  },
  {
   "cell_type": "markdown",
   "metadata": {},
   "source": [
    "## What sorts of discriminatory bases were most likely to result in an outcome where the EEOC found merit in the complaint, the complainant got some form of relief and in which the complainant saw any monetary benefits and how does that compare with the overall number of those violations (minimum 100 cases)?"
   ]
  },
  {
   "cell_type": "code",
   "execution_count": 28,
   "metadata": {},
   "outputs": [
    {
     "data": {
      "text/html": [
       "<div>\n",
       "<style scoped>\n",
       "    .dataframe tbody tr th:only-of-type {\n",
       "        vertical-align: middle;\n",
       "    }\n",
       "\n",
       "    .dataframe tbody tr th {\n",
       "        vertical-align: top;\n",
       "    }\n",
       "\n",
       "    .dataframe thead th {\n",
       "        text-align: right;\n",
       "    }\n",
       "</style>\n",
       "<table border=\"1\" class=\"dataframe\">\n",
       "  <thead>\n",
       "    <tr style=\"text-align: right;\">\n",
       "      <th></th>\n",
       "      <th>basis</th>\n",
       "      <th>all_cases</th>\n",
       "      <th>meritorious_cases</th>\n",
       "      <th>pct_all_cases_meritorious</th>\n",
       "      <th>relief_cases</th>\n",
       "      <th>pct_all_cases_relief</th>\n",
       "      <th>monetary_benefits_cases</th>\n",
       "      <th>pct_all_cases_monetary_benefits</th>\n",
       "    </tr>\n",
       "  </thead>\n",
       "  <tbody>\n",
       "    <tr>\n",
       "      <th>28</th>\n",
       "      <td>Genetic Information Discrimination</td>\n",
       "      <td>1853</td>\n",
       "      <td>101</td>\n",
       "      <td>0.05</td>\n",
       "      <td>158</td>\n",
       "      <td>0.09</td>\n",
       "      <td>160</td>\n",
       "      <td>0.09</td>\n",
       "    </tr>\n",
       "    <tr>\n",
       "      <th>67</th>\n",
       "      <td>Religion-7th Day Adventist</td>\n",
       "      <td>1205</td>\n",
       "      <td>62</td>\n",
       "      <td>0.05</td>\n",
       "      <td>152</td>\n",
       "      <td>0.13</td>\n",
       "      <td>138</td>\n",
       "      <td>0.11</td>\n",
       "    </tr>\n",
       "    <tr>\n",
       "      <th>48</th>\n",
       "      <td>Other</td>\n",
       "      <td>22499</td>\n",
       "      <td>928</td>\n",
       "      <td>0.04</td>\n",
       "      <td>2473</td>\n",
       "      <td>0.11</td>\n",
       "      <td>1743</td>\n",
       "      <td>0.08</td>\n",
       "    </tr>\n",
       "    <tr>\n",
       "      <th>21</th>\n",
       "      <td>Drug Addiction</td>\n",
       "      <td>1365</td>\n",
       "      <td>54</td>\n",
       "      <td>0.04</td>\n",
       "      <td>127</td>\n",
       "      <td>0.09</td>\n",
       "      <td>157</td>\n",
       "      <td>0.12</td>\n",
       "    </tr>\n",
       "    <tr>\n",
       "      <th>77</th>\n",
       "      <td>Sex-Gender Identity/Transgender</td>\n",
       "      <td>2082</td>\n",
       "      <td>78</td>\n",
       "      <td>0.04</td>\n",
       "      <td>172</td>\n",
       "      <td>0.08</td>\n",
       "      <td>213</td>\n",
       "      <td>0.10</td>\n",
       "    </tr>\n",
       "  </tbody>\n",
       "</table>\n",
       "</div>"
      ],
      "text/plain": [
       "                                 basis  all_cases  meritorious_cases  \\\n",
       "28  Genetic Information Discrimination       1853                101   \n",
       "67          Religion-7th Day Adventist       1205                 62   \n",
       "48                               Other      22499                928   \n",
       "21                      Drug Addiction       1365                 54   \n",
       "77     Sex-Gender Identity/Transgender       2082                 78   \n",
       "\n",
       "    pct_all_cases_meritorious  relief_cases  pct_all_cases_relief  \\\n",
       "28                       0.05           158                  0.09   \n",
       "67                       0.05           152                  0.13   \n",
       "48                       0.04          2473                  0.11   \n",
       "21                       0.04           127                  0.09   \n",
       "77                       0.04           172                  0.08   \n",
       "\n",
       "    monetary_benefits_cases  pct_all_cases_monetary_benefits  \n",
       "28                      160                             0.09  \n",
       "67                      138                             0.11  \n",
       "48                     1743                             0.08  \n",
       "21                      157                             0.12  \n",
       "77                      213                             0.10  "
      ]
     },
     "execution_count": 28,
     "metadata": {},
     "output_type": "execute_result"
    }
   ],
   "source": [
    "cases_by_basis[cases_by_basis[\"all_cases\"] >= 100].sort_values(\"pct_all_cases_meritorious\", ascending=False).head()"
   ]
  },
  {
   "cell_type": "code",
   "execution_count": 29,
   "metadata": {},
   "outputs": [
    {
     "data": {
      "text/html": [
       "<div>\n",
       "<style scoped>\n",
       "    .dataframe tbody tr th:only-of-type {\n",
       "        vertical-align: middle;\n",
       "    }\n",
       "\n",
       "    .dataframe tbody tr th {\n",
       "        vertical-align: top;\n",
       "    }\n",
       "\n",
       "    .dataframe thead th {\n",
       "        text-align: right;\n",
       "    }\n",
       "</style>\n",
       "<table border=\"1\" class=\"dataframe\">\n",
       "  <thead>\n",
       "    <tr style=\"text-align: right;\">\n",
       "      <th></th>\n",
       "      <th>basis</th>\n",
       "      <th>all_cases</th>\n",
       "      <th>meritorious_cases</th>\n",
       "      <th>pct_all_cases_meritorious</th>\n",
       "      <th>relief_cases</th>\n",
       "      <th>pct_all_cases_relief</th>\n",
       "      <th>monetary_benefits_cases</th>\n",
       "      <th>pct_all_cases_monetary_benefits</th>\n",
       "    </tr>\n",
       "  </thead>\n",
       "  <tbody>\n",
       "    <tr>\n",
       "      <th>39</th>\n",
       "      <td>Missing Digits/Limbs</td>\n",
       "      <td>2360</td>\n",
       "      <td>34</td>\n",
       "      <td>0.01</td>\n",
       "      <td>320</td>\n",
       "      <td>0.14</td>\n",
       "      <td>339</td>\n",
       "      <td>0.14</td>\n",
       "    </tr>\n",
       "    <tr>\n",
       "      <th>17</th>\n",
       "      <td>Cystic Fibrosis</td>\n",
       "      <td>101</td>\n",
       "      <td>2</td>\n",
       "      <td>0.02</td>\n",
       "      <td>13</td>\n",
       "      <td>0.13</td>\n",
       "      <td>18</td>\n",
       "      <td>0.18</td>\n",
       "    </tr>\n",
       "    <tr>\n",
       "      <th>12</th>\n",
       "      <td>Cerebral Palsy</td>\n",
       "      <td>807</td>\n",
       "      <td>25</td>\n",
       "      <td>0.03</td>\n",
       "      <td>102</td>\n",
       "      <td>0.13</td>\n",
       "      <td>111</td>\n",
       "      <td>0.14</td>\n",
       "    </tr>\n",
       "    <tr>\n",
       "      <th>67</th>\n",
       "      <td>Religion-7th Day Adventist</td>\n",
       "      <td>1205</td>\n",
       "      <td>62</td>\n",
       "      <td>0.05</td>\n",
       "      <td>152</td>\n",
       "      <td>0.13</td>\n",
       "      <td>138</td>\n",
       "      <td>0.11</td>\n",
       "    </tr>\n",
       "    <tr>\n",
       "      <th>79</th>\n",
       "      <td>Sex-Pregnancy</td>\n",
       "      <td>41019</td>\n",
       "      <td>944</td>\n",
       "      <td>0.02</td>\n",
       "      <td>4977</td>\n",
       "      <td>0.12</td>\n",
       "      <td>6227</td>\n",
       "      <td>0.15</td>\n",
       "    </tr>\n",
       "  </tbody>\n",
       "</table>\n",
       "</div>"
      ],
      "text/plain": [
       "                         basis  all_cases  meritorious_cases  \\\n",
       "39        Missing Digits/Limbs       2360                 34   \n",
       "17             Cystic Fibrosis        101                  2   \n",
       "12              Cerebral Palsy        807                 25   \n",
       "67  Religion-7th Day Adventist       1205                 62   \n",
       "79               Sex-Pregnancy      41019                944   \n",
       "\n",
       "    pct_all_cases_meritorious  relief_cases  pct_all_cases_relief  \\\n",
       "39                       0.01           320                  0.14   \n",
       "17                       0.02            13                  0.13   \n",
       "12                       0.03           102                  0.13   \n",
       "67                       0.05           152                  0.13   \n",
       "79                       0.02          4977                  0.12   \n",
       "\n",
       "    monetary_benefits_cases  pct_all_cases_monetary_benefits  \n",
       "39                      339                             0.14  \n",
       "17                       18                             0.18  \n",
       "12                      111                             0.14  \n",
       "67                      138                             0.11  \n",
       "79                     6227                             0.15  "
      ]
     },
     "execution_count": 29,
     "metadata": {},
     "output_type": "execute_result"
    }
   ],
   "source": [
    "cases_by_basis[cases_by_basis[\"all_cases\"] >= 100].sort_values(\"pct_all_cases_relief\", ascending=False).head()"
   ]
  },
  {
   "cell_type": "code",
   "execution_count": 30,
   "metadata": {},
   "outputs": [
    {
     "data": {
      "text/html": [
       "<div>\n",
       "<style scoped>\n",
       "    .dataframe tbody tr th:only-of-type {\n",
       "        vertical-align: middle;\n",
       "    }\n",
       "\n",
       "    .dataframe tbody tr th {\n",
       "        vertical-align: top;\n",
       "    }\n",
       "\n",
       "    .dataframe thead th {\n",
       "        text-align: right;\n",
       "    }\n",
       "</style>\n",
       "<table border=\"1\" class=\"dataframe\">\n",
       "  <thead>\n",
       "    <tr style=\"text-align: right;\">\n",
       "      <th></th>\n",
       "      <th>basis</th>\n",
       "      <th>all_cases</th>\n",
       "      <th>meritorious_cases</th>\n",
       "      <th>pct_all_cases_meritorious</th>\n",
       "      <th>relief_cases</th>\n",
       "      <th>pct_all_cases_relief</th>\n",
       "      <th>monetary_benefits_cases</th>\n",
       "      <th>pct_all_cases_monetary_benefits</th>\n",
       "    </tr>\n",
       "  </thead>\n",
       "  <tbody>\n",
       "    <tr>\n",
       "      <th>17</th>\n",
       "      <td>Cystic Fibrosis</td>\n",
       "      <td>101</td>\n",
       "      <td>2</td>\n",
       "      <td>0.02</td>\n",
       "      <td>13</td>\n",
       "      <td>0.13</td>\n",
       "      <td>18</td>\n",
       "      <td>0.18</td>\n",
       "    </tr>\n",
       "    <tr>\n",
       "      <th>79</th>\n",
       "      <td>Sex-Pregnancy</td>\n",
       "      <td>41019</td>\n",
       "      <td>944</td>\n",
       "      <td>0.02</td>\n",
       "      <td>4977</td>\n",
       "      <td>0.12</td>\n",
       "      <td>6227</td>\n",
       "      <td>0.15</td>\n",
       "    </tr>\n",
       "    <tr>\n",
       "      <th>11</th>\n",
       "      <td>Cancer</td>\n",
       "      <td>9749</td>\n",
       "      <td>284</td>\n",
       "      <td>0.03</td>\n",
       "      <td>1103</td>\n",
       "      <td>0.11</td>\n",
       "      <td>1422</td>\n",
       "      <td>0.15</td>\n",
       "    </tr>\n",
       "    <tr>\n",
       "      <th>65</th>\n",
       "      <td>Regarded As Disabled</td>\n",
       "      <td>30638</td>\n",
       "      <td>923</td>\n",
       "      <td>0.03</td>\n",
       "      <td>3253</td>\n",
       "      <td>0.11</td>\n",
       "      <td>4431</td>\n",
       "      <td>0.14</td>\n",
       "    </tr>\n",
       "    <tr>\n",
       "      <th>39</th>\n",
       "      <td>Missing Digits/Limbs</td>\n",
       "      <td>2360</td>\n",
       "      <td>34</td>\n",
       "      <td>0.01</td>\n",
       "      <td>320</td>\n",
       "      <td>0.14</td>\n",
       "      <td>339</td>\n",
       "      <td>0.14</td>\n",
       "    </tr>\n",
       "  </tbody>\n",
       "</table>\n",
       "</div>"
      ],
      "text/plain": [
       "                   basis  all_cases  meritorious_cases  \\\n",
       "17       Cystic Fibrosis        101                  2   \n",
       "79         Sex-Pregnancy      41019                944   \n",
       "11                Cancer       9749                284   \n",
       "65  Regarded As Disabled      30638                923   \n",
       "39  Missing Digits/Limbs       2360                 34   \n",
       "\n",
       "    pct_all_cases_meritorious  relief_cases  pct_all_cases_relief  \\\n",
       "17                       0.02            13                  0.13   \n",
       "79                       0.02          4977                  0.12   \n",
       "11                       0.03          1103                  0.11   \n",
       "65                       0.03          3253                  0.11   \n",
       "39                       0.01           320                  0.14   \n",
       "\n",
       "    monetary_benefits_cases  pct_all_cases_monetary_benefits  \n",
       "17                       18                             0.18  \n",
       "79                     6227                             0.15  \n",
       "11                     1422                             0.15  \n",
       "65                     4431                             0.14  \n",
       "39                      339                             0.14  "
      ]
     },
     "execution_count": 30,
     "metadata": {},
     "output_type": "execute_result"
    }
   ],
   "source": [
    "cases_by_basis[cases_by_basis[\"all_cases\"] >= 100].sort_values(\"pct_all_cases_monetary_benefits\", ascending=False).head()"
   ]
  },
  {
   "cell_type": "markdown",
   "metadata": {},
   "source": [
    "Export the tables."
   ]
  },
  {
   "cell_type": "code",
   "execution_count": 31,
   "metadata": {},
   "outputs": [],
   "source": [
    "cases_by_year.to_csv(\"data/cases_by_year.csv\", index=False)\n",
    "cases_by_basis.to_csv(\"data/cases_by_basis.csv\", index=False)"
   ]
  },
  {
   "cell_type": "code",
   "execution_count": null,
   "metadata": {},
   "outputs": [],
   "source": []
  }
 ],
 "metadata": {
  "kernelspec": {
   "display_name": "Python 3",
   "language": "python",
   "name": "python3"
  },
  "language_info": {
   "codemirror_mode": {
    "name": "ipython",
    "version": 3
   },
   "file_extension": ".py",
   "mimetype": "text/x-python",
   "name": "python",
   "nbconvert_exporter": "python",
   "pygments_lexer": "ipython3",
   "version": "3.6.3"
  }
 },
 "nbformat": 4,
 "nbformat_minor": 2
}
