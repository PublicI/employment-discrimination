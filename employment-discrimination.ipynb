{
 "cells": [
  {
   "cell_type": "code",
   "execution_count": 1,
   "metadata": {
    "collapsed": true,
    "scrolled": false
   },
   "outputs": [],
   "source": [
    "import json\n",
    "import numpy as np\n",
    "import pandas as pd\n",
    "\n",
    "pd.set_option(\"display.max_columns\", 50)\n",
    "pd.set_option(\"display.max_rows\", 100)\n",
    "pd.options.display.float_format = \"{:,.2f}\".format"
   ]
  },
  {
   "cell_type": "markdown",
   "metadata": {},
   "source": [
    "## Import and format the data"
   ]
  },
  {
   "cell_type": "markdown",
   "metadata": {},
   "source": [
    "Import charge data for fiscal years 2011-2017."
   ]
  },
  {
   "cell_type": "code",
   "execution_count": 2,
   "metadata": {},
   "outputs": [
    {
     "name": "stderr",
     "output_type": "stream",
     "text": [
      "/home/jyerardi/anaconda3/lib/python3.6/site-packages/IPython/core/interactiveshell.py:2698: DtypeWarning: Columns (25) have mixed types. Specify dtype option on import or set low_memory=False.\n",
      "  interactivity=interactivity, compiler=compiler, result=result)\n"
     ]
    },
    {
     "name": "stdout",
     "output_type": "stream",
     "text": [
      "<class 'pandas.core.frame.DataFrame'>\n",
      "RangeIndex: 3443509 entries, 0 to 3443508\n",
      "Data columns (total 28 columns):\n",
      "fiscal_year                     object\n",
      "charge_num                      object\n",
      "state                           object\n",
      "num_employees_code              object\n",
      "num_employees                   object\n",
      "naics_code                      float64\n",
      "naics_desc                      object\n",
      "type_code                       object\n",
      "type                            object\n",
      "birth_date                      object\n",
      "sex                             object\n",
      "date_received                   object\n",
      "date_closed                     object\n",
      "closure_code                    object\n",
      "closure_action                  object\n",
      "monetary_benefits               float64\n",
      "statute_code                    object\n",
      "statute                         object\n",
      "basis_code                      object\n",
      "basis                           object\n",
      "issue_code                      object\n",
      "issue                           object\n",
      "court_filing_date               object\n",
      "civil_action_num                object\n",
      "court                           object\n",
      "resolution_date                 object\n",
      "case_type                       object\n",
      "litigation_monetary_benefits    float64\n",
      "dtypes: float64(3), object(25)\n",
      "memory usage: 735.6+ MB\n"
     ]
    }
   ],
   "source": [
    "charges = pd.read_csv(\"data/raw/charges_11_17.txt\", sep=\"\\t\", skiprows=1,\n",
    "                      dtype={1: str},\n",
    "                      names=[\"fiscal_year\", \"charge_num\", \"state\", \"num_employees_code\",\n",
    "                             \"num_employees\", \"naics_code\", \"naics_desc\", \"type_code\",\n",
    "                             \"type\", \"birth_date\", \"sex\", \"date_received\", \"date_closed\",\n",
    "                             \"closure_code\", \"closure_action\", \"monetary_benefits\", \"statute_code\",\n",
    "                             \"statute\", \"basis_code\", \"basis\", \"issue_code\", \"issue\",\n",
    "                             \"court_filing_date\", \"civil_action_num\", \"court\", \"resolution_date\",\n",
    "                             \"case_type\", \"litigation_monetary_benefits\"])\n",
    "charges.info()"
   ]
  },
  {
   "cell_type": "markdown",
   "metadata": {},
   "source": [
    "Convert the date columns."
   ]
  },
  {
   "cell_type": "code",
   "execution_count": 3,
   "metadata": {},
   "outputs": [
    {
     "name": "stdout",
     "output_type": "stream",
     "text": [
      "<class 'pandas.core.frame.DataFrame'>\n",
      "RangeIndex: 3443509 entries, 0 to 3443508\n",
      "Data columns (total 28 columns):\n",
      "fiscal_year                     object\n",
      "charge_num                      object\n",
      "state                           object\n",
      "num_employees_code              object\n",
      "num_employees                   object\n",
      "naics_code                      float64\n",
      "naics_desc                      object\n",
      "type_code                       object\n",
      "type                            object\n",
      "birth_date                      datetime64[ns]\n",
      "sex                             object\n",
      "date_received                   datetime64[ns]\n",
      "date_closed                     datetime64[ns]\n",
      "closure_code                    object\n",
      "closure_action                  object\n",
      "monetary_benefits               float64\n",
      "statute_code                    object\n",
      "statute                         object\n",
      "basis_code                      object\n",
      "basis                           object\n",
      "issue_code                      object\n",
      "issue                           object\n",
      "court_filing_date               datetime64[ns]\n",
      "civil_action_num                object\n",
      "court                           object\n",
      "resolution_date                 datetime64[ns]\n",
      "case_type                       object\n",
      "litigation_monetary_benefits    float64\n",
      "dtypes: datetime64[ns](5), float64(3), object(20)\n",
      "memory usage: 735.6+ MB\n"
     ]
    }
   ],
   "source": [
    "charges[\"birth_date\"] = pd.to_datetime(charges[\"birth_date\"], errors=\"coerce\", format=\"%m/%d/%Y\")\n",
    "charges[\"date_received\"] = pd.to_datetime(charges[\"date_received\"], errors=\"coerce\", format=\"%m/%d/%Y\")\n",
    "charges[\"date_closed\"] = pd.to_datetime(charges[\"date_closed\"], errors=\"coerce\", format=\"%m/%d/%Y\")\n",
    "charges[\"court_filing_date\"] = pd.to_datetime(charges[\"court_filing_date\"], errors=\"coerce\", format=\"%m/%d/%Y\")\n",
    "charges[\"resolution_date\"] = pd.to_datetime(charges[\"resolution_date\"], errors=\"coerce\", format=\"%m/%d/%Y\")\n",
    "charges.info()"
   ]
  },
  {
   "cell_type": "markdown",
   "metadata": {},
   "source": [
    "Import charge data for fiscal year 2010."
   ]
  },
  {
   "cell_type": "code",
   "execution_count": 4,
   "metadata": {},
   "outputs": [
    {
     "name": "stderr",
     "output_type": "stream",
     "text": [
      "/home/jyerardi/anaconda3/lib/python3.6/site-packages/IPython/core/interactiveshell.py:2698: DtypeWarning: Columns (22,23,24,25,26) have mixed types. Specify dtype option on import or set low_memory=False.\n",
      "  interactivity=interactivity, compiler=compiler, result=result)\n"
     ]
    },
    {
     "name": "stdout",
     "output_type": "stream",
     "text": [
      "<class 'pandas.core.frame.DataFrame'>\n",
      "RangeIndex: 343863 entries, 0 to 343862\n",
      "Data columns (total 28 columns):\n",
      "charge_num                      343863 non-null object\n",
      "state                           343801 non-null object\n",
      "num_employees_code              328035 non-null object\n",
      "num_employees                   328035 non-null object\n",
      "naics_code                      187222 non-null float64\n",
      "naics_desc                      185282 non-null object\n",
      "type_code                       343829 non-null object\n",
      "type                            343829 non-null object\n",
      "birth_date                      310000 non-null object\n",
      "sex                             343453 non-null object\n",
      "date_received                   343863 non-null object\n",
      "date_fepa_sent_to_eeoc          20188 non-null object\n",
      "date_closed                     230050 non-null object\n",
      "closure_code                    230050 non-null object\n",
      "closure_action                  230050 non-null object\n",
      "monetary_benefits               37964 non-null object\n",
      "statute_code                    343863 non-null object\n",
      "statute                         343367 non-null object\n",
      "basis_code                      342598 non-null object\n",
      "basis                           343859 non-null object\n",
      "issue_code                      343863 non-null object\n",
      "issue                           343863 non-null object\n",
      "court_filing_date               366 non-null object\n",
      "civil_action_num                355 non-null object\n",
      "court                           355 non-null object\n",
      "resolution_date                 41 non-null object\n",
      "litigation_monetary_benefits    11 non-null object\n",
      "case_type                       894 non-null object\n",
      "dtypes: float64(1), object(27)\n",
      "memory usage: 73.5+ MB\n"
     ]
    }
   ],
   "source": [
    "charges_10 = pd.read_csv(\"data/raw/Genre_2010.txt\", sep=\"\\t\", skiprows=1,\n",
    "                         dtype={0: str},\n",
    "                         names=[\"charge_num\", \"state\", \"num_employees_code\",\n",
    "                                \"num_employees\", \"naics_code\", \"naics_desc\", \"type_code\",\n",
    "                                \"type\", \"birth_date\", \"sex\", \"date_received\", \"date_fepa_sent_to_eeoc\",\n",
    "                                \"date_closed\", \"closure_code\", \"closure_action\", \"monetary_benefits\",\n",
    "                                \"statute_code\", \"statute\", \"basis_code\", \"basis\", \"issue_code\", \"issue\",\n",
    "                                \"court_filing_date\", \"civil_action_num\", \"court\", \"resolution_date\",\n",
    "                                \"litigation_monetary_benefits\", \"case_type\"])\n",
    "charges_10.info()"
   ]
  },
  {
   "cell_type": "markdown",
   "metadata": {},
   "source": [
    "Convert the date columns."
   ]
  },
  {
   "cell_type": "code",
   "execution_count": 5,
   "metadata": {},
   "outputs": [
    {
     "name": "stdout",
     "output_type": "stream",
     "text": [
      "<class 'pandas.core.frame.DataFrame'>\n",
      "RangeIndex: 343863 entries, 0 to 343862\n",
      "Data columns (total 28 columns):\n",
      "charge_num                      343863 non-null object\n",
      "state                           343801 non-null object\n",
      "num_employees_code              328035 non-null object\n",
      "num_employees                   328035 non-null object\n",
      "naics_code                      187222 non-null float64\n",
      "naics_desc                      185282 non-null object\n",
      "type_code                       343829 non-null object\n",
      "type                            343829 non-null object\n",
      "birth_date                      310000 non-null datetime64[ns]\n",
      "sex                             343453 non-null object\n",
      "date_received                   343863 non-null datetime64[ns]\n",
      "date_fepa_sent_to_eeoc          20188 non-null object\n",
      "date_closed                     230050 non-null datetime64[ns]\n",
      "closure_code                    230050 non-null object\n",
      "closure_action                  230050 non-null object\n",
      "monetary_benefits               37964 non-null object\n",
      "statute_code                    343863 non-null object\n",
      "statute                         343367 non-null object\n",
      "basis_code                      342598 non-null object\n",
      "basis                           343859 non-null object\n",
      "issue_code                      343863 non-null object\n",
      "issue                           343863 non-null object\n",
      "court_filing_date               366 non-null datetime64[ns]\n",
      "civil_action_num                355 non-null object\n",
      "court                           355 non-null object\n",
      "resolution_date                 41 non-null datetime64[ns]\n",
      "litigation_monetary_benefits    11 non-null object\n",
      "case_type                       894 non-null object\n",
      "dtypes: datetime64[ns](5), float64(1), object(22)\n",
      "memory usage: 73.5+ MB\n"
     ]
    }
   ],
   "source": [
    "charges_10[\"birth_date\"] = pd.to_datetime(charges_10[\"birth_date\"], errors=\"coerce\", format=\"%m/%d/%y\")\n",
    "charges_10[\"date_received\"] = pd.to_datetime(charges_10[\"date_received\"], errors=\"coerce\", format=\"%m/%d/%y\")\n",
    "charges_10[\"date_closed\"] = pd.to_datetime(charges_10[\"date_closed\"], errors=\"coerce\", format=\"%m/%d/%y\")\n",
    "charges_10[\"court_filing_date\"] = pd.to_datetime(charges_10[\"court_filing_date\"], errors=\"coerce\", format=\"%m/%d/%y\")\n",
    "charges_10[\"resolution_date\"] = pd.to_datetime(charges_10[\"resolution_date\"], errors=\"coerce\", format=\"%m/%d/%y\")\n",
    "charges_10.info()"
   ]
  },
  {
   "cell_type": "markdown",
   "metadata": {},
   "source": [
    "The columns in the 2010 charge data differ from those of the 2011 through 2017 data. We need to delete, add, rename and reorder the columns before concatenating the data."
   ]
  },
  {
   "cell_type": "code",
   "execution_count": 6,
   "metadata": {},
   "outputs": [
    {
     "name": "stdout",
     "output_type": "stream",
     "text": [
      "<class 'pandas.core.frame.DataFrame'>\n",
      "RangeIndex: 343863 entries, 0 to 343862\n",
      "Data columns (total 28 columns):\n",
      "fiscal_year                     343863 non-null object\n",
      "charge_num                      343863 non-null object\n",
      "state                           343801 non-null object\n",
      "num_employees_code              328035 non-null object\n",
      "num_employees                   328035 non-null object\n",
      "naics_code                      187222 non-null float64\n",
      "naics_desc                      185282 non-null object\n",
      "type_code                       343829 non-null object\n",
      "type                            343829 non-null object\n",
      "birth_date                      310000 non-null datetime64[ns]\n",
      "sex                             343453 non-null object\n",
      "date_received                   343863 non-null datetime64[ns]\n",
      "date_closed                     230050 non-null datetime64[ns]\n",
      "closure_code                    230050 non-null object\n",
      "closure_action                  230050 non-null object\n",
      "monetary_benefits               37964 non-null object\n",
      "statute_code                    343863 non-null object\n",
      "statute                         343367 non-null object\n",
      "basis_code                      342598 non-null object\n",
      "basis                           343859 non-null object\n",
      "issue_code                      343863 non-null object\n",
      "issue                           343863 non-null object\n",
      "court_filing_date               366 non-null datetime64[ns]\n",
      "civil_action_num                355 non-null object\n",
      "court                           355 non-null object\n",
      "resolution_date                 41 non-null datetime64[ns]\n",
      "case_type                       894 non-null object\n",
      "litigation_monetary_benefits    11 non-null object\n",
      "dtypes: datetime64[ns](5), float64(1), object(22)\n",
      "memory usage: 73.5+ MB\n"
     ]
    }
   ],
   "source": [
    "charges_10.drop(\"date_fepa_sent_to_eeoc\", axis=1, inplace=True)\n",
    "charges_10[\"fiscal_year\"] = \"FY2010\"\n",
    "charges_10 = charges_10[[\"fiscal_year\", \"charge_num\", \"state\", \"num_employees_code\", \"num_employees\", \"naics_code\", \"naics_desc\", \"type_code\",\n",
    "                         \"type\", \"birth_date\", \"sex\", \"date_received\", \"date_closed\", \"closure_code\", \"closure_action\", \"monetary_benefits\",\n",
    "                         \"statute_code\", \"statute\", \"basis_code\", \"basis\", \"issue_code\", \"issue\", \"court_filing_date\", \"civil_action_num\",\n",
    "                         \"court\", \"resolution_date\", \"case_type\", \"litigation_monetary_benefits\"]]\n",
    "charges_10.info()"
   ]
  },
  {
   "cell_type": "markdown",
   "metadata": {},
   "source": [
    "Concatenate the two sets of charge data."
   ]
  },
  {
   "cell_type": "code",
   "execution_count": 7,
   "metadata": {},
   "outputs": [
    {
     "name": "stdout",
     "output_type": "stream",
     "text": [
      "<class 'pandas.core.frame.DataFrame'>\n",
      "RangeIndex: 3787372 entries, 0 to 3787371\n",
      "Data columns (total 28 columns):\n",
      "fiscal_year                     object\n",
      "charge_num                      object\n",
      "state                           object\n",
      "num_employees_code              object\n",
      "num_employees                   object\n",
      "naics_code                      float64\n",
      "naics_desc                      object\n",
      "type_code                       object\n",
      "type                            object\n",
      "birth_date                      datetime64[ns]\n",
      "sex                             object\n",
      "date_received                   datetime64[ns]\n",
      "date_closed                     datetime64[ns]\n",
      "closure_code                    object\n",
      "closure_action                  object\n",
      "monetary_benefits               object\n",
      "statute_code                    object\n",
      "statute                         object\n",
      "basis_code                      object\n",
      "basis                           object\n",
      "issue_code                      object\n",
      "issue                           object\n",
      "court_filing_date               datetime64[ns]\n",
      "civil_action_num                object\n",
      "court                           object\n",
      "resolution_date                 datetime64[ns]\n",
      "case_type                       object\n",
      "litigation_monetary_benefits    object\n",
      "dtypes: datetime64[ns](5), float64(1), object(22)\n",
      "memory usage: 809.1+ MB\n"
     ]
    }
   ],
   "source": [
    "charges = pd.concat([charges, charges_10], ignore_index=True)\n",
    "charges.info()"
   ]
  },
  {
   "cell_type": "markdown",
   "metadata": {},
   "source": [
    "Convert the columns to their proper data types."
   ]
  },
  {
   "cell_type": "code",
   "execution_count": 8,
   "metadata": {},
   "outputs": [
    {
     "name": "stdout",
     "output_type": "stream",
     "text": [
      "<class 'pandas.core.frame.DataFrame'>\n",
      "RangeIndex: 3787372 entries, 0 to 3787371\n",
      "Data columns (total 28 columns):\n",
      "fiscal_year                     category\n",
      "charge_num                      object\n",
      "state                           category\n",
      "num_employees_code              category\n",
      "num_employees                   category\n",
      "naics_code                      category\n",
      "naics_desc                      category\n",
      "type_code                       category\n",
      "type                            category\n",
      "birth_date                      datetime64[ns]\n",
      "sex                             category\n",
      "date_received                   datetime64[ns]\n",
      "date_closed                     datetime64[ns]\n",
      "closure_code                    category\n",
      "closure_action                  category\n",
      "monetary_benefits               float32\n",
      "statute_code                    category\n",
      "statute                         category\n",
      "basis_code                      category\n",
      "basis                           category\n",
      "issue_code                      category\n",
      "issue                           category\n",
      "court_filing_date               datetime64[ns]\n",
      "civil_action_num                object\n",
      "court                           category\n",
      "resolution_date                 datetime64[ns]\n",
      "case_type                       category\n",
      "litigation_monetary_benefits    float32\n",
      "dtypes: category(19), datetime64[ns](5), float32(2), object(2)\n",
      "memory usage: 307.1+ MB\n"
     ]
    }
   ],
   "source": [
    "charges = charges.astype(dtype={\"fiscal_year\": \"category\", \"charge_num\": str, \"state\": \"category\",\n",
    "                            \"num_employees_code\": \"category\", \"num_employees\": \"category\",\n",
    "                            \"naics_code\": \"category\", \"naics_desc\": \"category\",\n",
    "                            \"type_code\": \"category\", \"type\": \"category\", \"sex\": \"category\",\n",
    "                            \"closure_code\": \"category\", \"closure_action\": \"category\",\n",
    "                            \"statute_code\": \"category\", \"statute\": \"category\",\n",
    "                            \"basis_code\": \"category\", \"basis\": \"category\", \"issue_code\": \"category\",\n",
    "                            \"issue\": \"category\", \"court\": \"category\", \"case_type\": \"category\"})\n",
    "charges[\"monetary_benefits\"] = pd.to_numeric(charges[\"monetary_benefits\"], errors=\"coerce\", downcast=\"float\")\n",
    "charges[\"litigation_monetary_benefits\"] = pd.to_numeric(charges[\"litigation_monetary_benefits\"], errors=\"coerce\", downcast=\"float\")\n",
    "charges.info()"
   ]
  },
  {
   "cell_type": "markdown",
   "metadata": {},
   "source": [
    "## How many alleged violations are we dealing with?"
   ]
  },
  {
   "cell_type": "code",
   "execution_count": 9,
   "metadata": {},
   "outputs": [
    {
     "data": {
      "text/plain": [
       "3787372"
      ]
     },
     "execution_count": 9,
     "metadata": {},
     "output_type": "execute_result"
    }
   ],
   "source": [
    "charges[\"charge_num\"].count()"
   ]
  },
  {
   "cell_type": "markdown",
   "metadata": {},
   "source": [
    "## And how many cases are we dealing with?"
   ]
  },
  {
   "cell_type": "code",
   "execution_count": 10,
   "metadata": {},
   "outputs": [
    {
     "data": {
      "text/plain": [
       "1056978"
      ]
     },
     "execution_count": 10,
     "metadata": {},
     "output_type": "execute_result"
    }
   ],
   "source": [
    "charges[\"charge_num\"].nunique()"
   ]
  },
  {
   "cell_type": "markdown",
   "metadata": {},
   "source": [
    "## In how many cases did the EEOC find merit to the complaint?"
   ]
  },
  {
   "cell_type": "code",
   "execution_count": 11,
   "metadata": {},
   "outputs": [
    {
     "data": {
      "text/plain": [
       "17253"
      ]
     },
     "execution_count": 11,
     "metadata": {},
     "output_type": "execute_result"
    }
   ],
   "source": [
    "meritorious_outcomes = [\"Case Settled By Legal Unit\", \"Conciliation Failure\", \"Successful Conciliation\"]\n",
    "meritorious_charges = charges[charges[\"closure_action\"].isin(meritorious_outcomes)]\n",
    "meritorious_charges[\"charge_num\"].nunique()"
   ]
  },
  {
   "cell_type": "markdown",
   "metadata": {},
   "source": [
    "## And in how many cases did a worker see any monetary benefits?"
   ]
  },
  {
   "cell_type": "code",
   "execution_count": 12,
   "metadata": {},
   "outputs": [],
   "source": [
    "monetary_benefits_charges = charges[charges[\"monetary_benefits\"] > 0]"
   ]
  },
  {
   "cell_type": "code",
   "execution_count": 13,
   "metadata": {},
   "outputs": [
    {
     "data": {
      "text/plain": [
       "112198"
      ]
     },
     "execution_count": 13,
     "metadata": {},
     "output_type": "execute_result"
    }
   ],
   "source": [
    "monetary_benefits_charges[\"charge_num\"].nunique()"
   ]
  },
  {
   "cell_type": "code",
   "execution_count": 14,
   "metadata": {},
   "outputs": [
    {
     "data": {
      "text/plain": [
       "2354293800.0"
      ]
     },
     "execution_count": 14,
     "metadata": {},
     "output_type": "execute_result"
    }
   ],
   "source": [
    "monetary_benefits_charges.groupby([\"charge_num\"])[\"monetary_benefits\"].mean().sum()"
   ]
  },
  {
   "cell_type": "markdown",
   "metadata": {},
   "source": [
    "## What sorts of discriminatory bases were most likely to result in an outcome where the complainant saw any monetary benefits and how does that compare with the overall number of those violations?"
   ]
  },
  {
   "cell_type": "markdown",
   "metadata": {},
   "source": [
    "### Calculate the number of cases grouped by basis."
   ]
  },
  {
   "cell_type": "code",
   "execution_count": 15,
   "metadata": {},
   "outputs": [
    {
     "data": {
      "text/html": [
       "<div>\n",
       "<style scoped>\n",
       "    .dataframe tbody tr th:only-of-type {\n",
       "        vertical-align: middle;\n",
       "    }\n",
       "\n",
       "    .dataframe tbody tr th {\n",
       "        vertical-align: top;\n",
       "    }\n",
       "\n",
       "    .dataframe thead th {\n",
       "        text-align: right;\n",
       "    }\n",
       "</style>\n",
       "<table border=\"1\" class=\"dataframe\">\n",
       "  <thead>\n",
       "    <tr style=\"text-align: right;\">\n",
       "      <th></th>\n",
       "      <th>charge_num</th>\n",
       "      <th>basis</th>\n",
       "      <th>num_issues</th>\n",
       "    </tr>\n",
       "  </thead>\n",
       "  <tbody>\n",
       "    <tr>\n",
       "      <th>0</th>\n",
       "      <td>3,288,411.72</td>\n",
       "      <td>Age</td>\n",
       "      <td>1</td>\n",
       "    </tr>\n",
       "    <tr>\n",
       "      <th>1</th>\n",
       "      <td>3,288,411.72</td>\n",
       "      <td>Retaliation</td>\n",
       "      <td>2</td>\n",
       "    </tr>\n",
       "    <tr>\n",
       "      <th>2</th>\n",
       "      <td>3,593,445.5595</td>\n",
       "      <td>Retaliation</td>\n",
       "      <td>2</td>\n",
       "    </tr>\n",
       "    <tr>\n",
       "      <th>3</th>\n",
       "      <td>3,593,445.5595</td>\n",
       "      <td>Sex-Female</td>\n",
       "      <td>2</td>\n",
       "    </tr>\n",
       "    <tr>\n",
       "      <th>4</th>\n",
       "      <td>3,848,821.6365</td>\n",
       "      <td>Retaliation</td>\n",
       "      <td>1</td>\n",
       "    </tr>\n",
       "  </tbody>\n",
       "</table>\n",
       "</div>"
      ],
      "text/plain": [
       "       charge_num        basis  num_issues\n",
       "0    3,288,411.72          Age           1\n",
       "1    3,288,411.72  Retaliation           2\n",
       "2  3,593,445.5595  Retaliation           2\n",
       "3  3,593,445.5595   Sex-Female           2\n",
       "4  3,848,821.6365  Retaliation           1"
      ]
     },
     "execution_count": 15,
     "metadata": {},
     "output_type": "execute_result"
    }
   ],
   "source": [
    "all_cases = charges.groupby([\"charge_num\", \"basis\"])[\"issue\"].count().reset_index()\n",
    "all_cases.rename(columns={\"issue\": \"num_issues\"}, inplace=True)\n",
    "all_cases.sort_values(\"charge_num\").head()"
   ]
  },
  {
   "cell_type": "code",
   "execution_count": 16,
   "metadata": {},
   "outputs": [
    {
     "data": {
      "text/html": [
       "<div>\n",
       "<style scoped>\n",
       "    .dataframe tbody tr th:only-of-type {\n",
       "        vertical-align: middle;\n",
       "    }\n",
       "\n",
       "    .dataframe tbody tr th {\n",
       "        vertical-align: top;\n",
       "    }\n",
       "\n",
       "    .dataframe thead th {\n",
       "        text-align: right;\n",
       "    }\n",
       "</style>\n",
       "<table border=\"1\" class=\"dataframe\">\n",
       "  <thead>\n",
       "    <tr style=\"text-align: right;\">\n",
       "      <th></th>\n",
       "      <th>basis</th>\n",
       "      <th>num_cases</th>\n",
       "      <th>percent_of_cases</th>\n",
       "      <th>rank</th>\n",
       "    </tr>\n",
       "  </thead>\n",
       "  <tbody>\n",
       "    <tr>\n",
       "      <th>74</th>\n",
       "      <td>Retaliation</td>\n",
       "      <td>412515</td>\n",
       "      <td>0.39</td>\n",
       "      <td>1</td>\n",
       "    </tr>\n",
       "  </tbody>\n",
       "</table>\n",
       "</div>"
      ],
      "text/plain": [
       "          basis  num_cases  percent_of_cases  rank\n",
       "74  Retaliation     412515              0.39     1"
      ]
     },
     "execution_count": 16,
     "metadata": {},
     "output_type": "execute_result"
    }
   ],
   "source": [
    "all_cases_by_basis = all_cases.groupby(\"basis\").count().reset_index()\n",
    "all_cases_by_basis.rename(columns={\"charge_num\": \"num_cases\"}, inplace=True)\n",
    "all_cases_by_basis.drop(\"num_issues\", axis=1, inplace=True)\n",
    "all_cases_by_basis[\"percent_of_cases\"] = all_cases_by_basis[\"num_cases\"] / charges[\"charge_num\"].nunique()\n",
    "all_cases_by_basis[\"rank\"] = all_cases_by_basis[\"percent_of_cases\"].rank(method=\"min\", ascending=False).astype(int)\n",
    "all_cases_by_basis.sort_values(\"num_cases\", ascending=False).head(1)"
   ]
  },
  {
   "cell_type": "markdown",
   "metadata": {},
   "source": [
    "### Calculate the number of cases, grouped by basis, that resulted in an outcome where the complainant saw monetary benefits."
   ]
  },
  {
   "cell_type": "code",
   "execution_count": 17,
   "metadata": {},
   "outputs": [
    {
     "data": {
      "text/html": [
       "<div>\n",
       "<style scoped>\n",
       "    .dataframe tbody tr th:only-of-type {\n",
       "        vertical-align: middle;\n",
       "    }\n",
       "\n",
       "    .dataframe tbody tr th {\n",
       "        vertical-align: top;\n",
       "    }\n",
       "\n",
       "    .dataframe thead th {\n",
       "        text-align: right;\n",
       "    }\n",
       "</style>\n",
       "<table border=\"1\" class=\"dataframe\">\n",
       "  <thead>\n",
       "    <tr style=\"text-align: right;\">\n",
       "      <th></th>\n",
       "      <th>charge_num</th>\n",
       "      <th>basis</th>\n",
       "      <th>num_issues</th>\n",
       "    </tr>\n",
       "  </thead>\n",
       "  <tbody>\n",
       "    <tr>\n",
       "      <th>0</th>\n",
       "      <td>3097456</td>\n",
       "      <td>Retaliation</td>\n",
       "      <td>1</td>\n",
       "    </tr>\n",
       "    <tr>\n",
       "      <th>1</th>\n",
       "      <td>3832804</td>\n",
       "      <td>Race-Black/African American</td>\n",
       "      <td>1</td>\n",
       "    </tr>\n",
       "    <tr>\n",
       "      <th>2</th>\n",
       "      <td>3832804</td>\n",
       "      <td>Sex-Male</td>\n",
       "      <td>1</td>\n",
       "    </tr>\n",
       "    <tr>\n",
       "      <th>3</th>\n",
       "      <td>3855513</td>\n",
       "      <td>Race-Black/African American</td>\n",
       "      <td>3</td>\n",
       "    </tr>\n",
       "    <tr>\n",
       "      <th>4</th>\n",
       "      <td>3855513</td>\n",
       "      <td>Sex-Male</td>\n",
       "      <td>3</td>\n",
       "    </tr>\n",
       "  </tbody>\n",
       "</table>\n",
       "</div>"
      ],
      "text/plain": [
       "  charge_num                        basis  num_issues\n",
       "0    3097456                  Retaliation           1\n",
       "1    3832804  Race-Black/African American           1\n",
       "2    3832804                     Sex-Male           1\n",
       "3    3855513  Race-Black/African American           3\n",
       "4    3855513                     Sex-Male           3"
      ]
     },
     "execution_count": 17,
     "metadata": {},
     "output_type": "execute_result"
    }
   ],
   "source": [
    "monetary_benefits_cases = monetary_benefits_charges.groupby([\"charge_num\", \"basis\"])[\"issue\"].count().reset_index()\n",
    "monetary_benefits_cases.rename(columns={\"issue\": \"num_issues\"}, inplace=True)\n",
    "monetary_benefits_cases.sort_values(\"charge_num\").head()"
   ]
  },
  {
   "cell_type": "code",
   "execution_count": 18,
   "metadata": {},
   "outputs": [
    {
     "data": {
      "text/html": [
       "<div>\n",
       "<style scoped>\n",
       "    .dataframe tbody tr th:only-of-type {\n",
       "        vertical-align: middle;\n",
       "    }\n",
       "\n",
       "    .dataframe tbody tr th {\n",
       "        vertical-align: top;\n",
       "    }\n",
       "\n",
       "    .dataframe thead th {\n",
       "        text-align: right;\n",
       "    }\n",
       "</style>\n",
       "<table border=\"1\" class=\"dataframe\">\n",
       "  <thead>\n",
       "    <tr style=\"text-align: right;\">\n",
       "      <th></th>\n",
       "      <th>basis</th>\n",
       "      <th>num_cases</th>\n",
       "      <th>percent_of_cases</th>\n",
       "      <th>rank</th>\n",
       "    </tr>\n",
       "  </thead>\n",
       "  <tbody>\n",
       "    <tr>\n",
       "      <th>74</th>\n",
       "      <td>Retaliation</td>\n",
       "      <td>44311</td>\n",
       "      <td>0.39</td>\n",
       "      <td>1</td>\n",
       "    </tr>\n",
       "  </tbody>\n",
       "</table>\n",
       "</div>"
      ],
      "text/plain": [
       "          basis  num_cases  percent_of_cases  rank\n",
       "74  Retaliation      44311              0.39     1"
      ]
     },
     "execution_count": 18,
     "metadata": {},
     "output_type": "execute_result"
    }
   ],
   "source": [
    "monetary_benefits_by_basis = monetary_benefits_cases.groupby(\"basis\").count().reset_index()\n",
    "monetary_benefits_by_basis.rename(columns={\"charge_num\": \"num_cases\"}, inplace=True)\n",
    "monetary_benefits_by_basis.drop(\"num_issues\", axis=1, inplace=True)\n",
    "monetary_benefits_by_basis[\"percent_of_cases\"] = monetary_benefits_by_basis[\"num_cases\"] / monetary_benefits_charges[\"charge_num\"].nunique()\n",
    "monetary_benefits_by_basis[\"rank\"] = monetary_benefits_by_basis[\"percent_of_cases\"].rank(method=\"min\", ascending=False).astype(int)\n",
    "monetary_benefits_by_basis.sort_values(\"num_cases\", ascending=False).head(1)"
   ]
  },
  {
   "cell_type": "markdown",
   "metadata": {},
   "source": [
    "### Join the tables."
   ]
  },
  {
   "cell_type": "code",
   "execution_count": 19,
   "metadata": {},
   "outputs": [
    {
     "data": {
      "text/html": [
       "<div>\n",
       "<style scoped>\n",
       "    .dataframe tbody tr th:only-of-type {\n",
       "        vertical-align: middle;\n",
       "    }\n",
       "\n",
       "    .dataframe tbody tr th {\n",
       "        vertical-align: top;\n",
       "    }\n",
       "\n",
       "    .dataframe thead th {\n",
       "        text-align: right;\n",
       "    }\n",
       "</style>\n",
       "<table border=\"1\" class=\"dataframe\">\n",
       "  <thead>\n",
       "    <tr style=\"text-align: right;\">\n",
       "      <th></th>\n",
       "      <th>basis</th>\n",
       "      <th>num_cases</th>\n",
       "      <th>percent_of_cases</th>\n",
       "      <th>rank</th>\n",
       "      <th>num_cases_monetary_benefits</th>\n",
       "      <th>percent_of_cases_monetary_benefits</th>\n",
       "      <th>rank_monetary_benefits</th>\n",
       "    </tr>\n",
       "  </thead>\n",
       "  <tbody>\n",
       "    <tr>\n",
       "      <th>74</th>\n",
       "      <td>Retaliation</td>\n",
       "      <td>412515</td>\n",
       "      <td>0.39</td>\n",
       "      <td>1</td>\n",
       "      <td>44311</td>\n",
       "      <td>0.39</td>\n",
       "      <td>1</td>\n",
       "    </tr>\n",
       "    <tr>\n",
       "      <th>60</th>\n",
       "      <td>Race-Black/African American</td>\n",
       "      <td>279225</td>\n",
       "      <td>0.26</td>\n",
       "      <td>2</td>\n",
       "      <td>26514</td>\n",
       "      <td>0.24</td>\n",
       "      <td>2</td>\n",
       "    </tr>\n",
       "    <tr>\n",
       "      <th>0</th>\n",
       "      <td>Age</td>\n",
       "      <td>231539</td>\n",
       "      <td>0.22</td>\n",
       "      <td>3</td>\n",
       "      <td>22668</td>\n",
       "      <td>0.20</td>\n",
       "      <td>4</td>\n",
       "    </tr>\n",
       "    <tr>\n",
       "      <th>76</th>\n",
       "      <td>Sex-Female</td>\n",
       "      <td>203779</td>\n",
       "      <td>0.19</td>\n",
       "      <td>4</td>\n",
       "      <td>24606</td>\n",
       "      <td>0.22</td>\n",
       "      <td>3</td>\n",
       "    </tr>\n",
       "    <tr>\n",
       "      <th>50</th>\n",
       "      <td>Other Disability</td>\n",
       "      <td>109168</td>\n",
       "      <td>0.10</td>\n",
       "      <td>5</td>\n",
       "      <td>12473</td>\n",
       "      <td>0.11</td>\n",
       "      <td>5</td>\n",
       "    </tr>\n",
       "  </tbody>\n",
       "</table>\n",
       "</div>"
      ],
      "text/plain": [
       "                          basis  num_cases  percent_of_cases  rank  \\\n",
       "74                  Retaliation     412515              0.39     1   \n",
       "60  Race-Black/African American     279225              0.26     2   \n",
       "0                           Age     231539              0.22     3   \n",
       "76                   Sex-Female     203779              0.19     4   \n",
       "50             Other Disability     109168              0.10     5   \n",
       "\n",
       "    num_cases_monetary_benefits  percent_of_cases_monetary_benefits  \\\n",
       "74                        44311                                0.39   \n",
       "60                        26514                                0.24   \n",
       "0                         22668                                0.20   \n",
       "76                        24606                                0.22   \n",
       "50                        12473                                0.11   \n",
       "\n",
       "    rank_monetary_benefits  \n",
       "74                       1  \n",
       "60                       2  \n",
       "0                        4  \n",
       "76                       3  \n",
       "50                       5  "
      ]
     },
     "execution_count": 19,
     "metadata": {},
     "output_type": "execute_result"
    }
   ],
   "source": [
    "cases_by_basis_and_benefits = all_cases_by_basis.merge(monetary_benefits_by_basis, how=\"left\", on=\"basis\", suffixes=[\"\", \"_monetary_benefits\"])\n",
    "cases_by_basis_and_benefits.sort_values(\"rank\", ascending=True).head()"
   ]
  },
  {
   "cell_type": "code",
   "execution_count": 20,
   "metadata": {},
   "outputs": [],
   "source": [
    "cases_by_basis_and_benefits.to_csv(\"data/cases_by_basis_and_benefits.csv\", index=False)"
   ]
  },
  {
   "cell_type": "code",
   "execution_count": null,
   "metadata": {},
   "outputs": [],
   "source": []
  }
 ],
 "metadata": {
  "kernelspec": {
   "display_name": "Python 3",
   "language": "python",
   "name": "python3"
  },
  "language_info": {
   "codemirror_mode": {
    "name": "ipython",
    "version": 3
   },
   "file_extension": ".py",
   "mimetype": "text/x-python",
   "name": "python",
   "nbconvert_exporter": "python",
   "pygments_lexer": "ipython3",
   "version": "3.6.3"
  }
 },
 "nbformat": 4,
 "nbformat_minor": 2
}
