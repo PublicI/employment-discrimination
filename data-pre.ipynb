{
 "cells": [
  {
   "cell_type": "code",
   "execution_count": 1,
   "metadata": {},
   "outputs": [],
   "source": [
    "import pandas as pd\n",
    "pd.set_option(\"display.max_columns\", 50)"
   ]
  },
  {
   "cell_type": "markdown",
   "metadata": {},
   "source": [
    "## Format 2000-2010 data"
   ]
  },
  {
   "cell_type": "markdown",
   "metadata": {},
   "source": [
    "Concatenate 2000 through Feb. 2010 complainant data from the EEOC."
   ]
  },
  {
   "cell_type": "code",
   "execution_count": 2,
   "metadata": {},
   "outputs": [],
   "source": [
    "!sh process_eeoc.sh"
   ]
  },
  {
   "cell_type": "markdown",
   "metadata": {},
   "source": [
    "Import complainant data."
   ]
  },
  {
   "cell_type": "code",
   "execution_count": 3,
   "metadata": {},
   "outputs": [
    {
     "name": "stdout",
     "output_type": "stream",
     "text": [
      "<class 'pandas.core.frame.DataFrame'>\n",
      "RangeIndex: 925611 entries, 0 to 925610\n",
      "Data columns (total 20 columns):\n",
      "complainant_id           925611 non-null object\n",
      "date_received            925611 non-null object\n",
      "date_closed              836105 non-null object\n",
      "receiving_office         925611 non-null category\n",
      "accountability_office    925611 non-null category\n",
      "eeoc_or_fepa             925611 non-null category\n",
      "processing_category      921323 non-null category\n",
      "statute                  925530 non-null category\n",
      "basis                    925274 non-null category\n",
      "issue                    925573 non-null category\n",
      "city                     925536 non-null category\n",
      "county                   913908 non-null category\n",
      "state                    925356 non-null category\n",
      "naics                    620933 non-null category\n",
      "num_employees            900728 non-null category\n",
      "type                     925463 non-null category\n",
      "race                     838595 non-null category\n",
      "sex                      925236 non-null category\n",
      "nat_origin               713521 non-null category\n",
      "birth_date               833892 non-null object\n",
      "dtypes: category(16), object(4)\n",
      "memory usage: 51.0+ MB\n"
     ]
    }
   ],
   "source": [
    "complainants = pd.read_csv(\"data/raw/complainants_00_09.txt\", sep=\"\\t\", skiprows=1,\n",
    "                           names=[\"complainant_id\", \"date_received\", \"date_closed\",\n",
    "                                  \"receiving_office\", \"accountability_office\", \"eeoc_or_fepa\",\n",
    "                                  \"processing_category\", \"statute\", \"basis\", \"issue\", \"city\",\n",
    "                                  \"county\", \"state\", \"naics\", \"num_employees\", \"type\", \"race\",\n",
    "                                  \"sex\", \"nat_origin\", \"birth_date\"],\n",
    "                           dtype={\"receiving_office\": \"category\", \"accountability_office\": \"category\",\n",
    "                                  \"eeoc_or_fepa\": \"category\",\"processing_category\": \"category\", \"statute\": \"category\",\n",
    "                                  \"basis\": \"category\", \"issue\": \"category\",\"city\": \"category\", \"county\": \"category\",\n",
    "                                  \"state\": \"category\", \"naics\": \"category\", \"num_employees\": \"category\",\n",
    "                                  \"type\": \"category\", \"race\": \"category\", \"sex\": \"category\", \"nat_origin\": \"category\"})\n",
    "complainants.info()"
   ]
  },
  {
   "cell_type": "markdown",
   "metadata": {},
   "source": [
    "Convert the date columns."
   ]
  },
  {
   "cell_type": "code",
   "execution_count": 4,
   "metadata": {},
   "outputs": [
    {
     "name": "stdout",
     "output_type": "stream",
     "text": [
      "<class 'pandas.core.frame.DataFrame'>\n",
      "RangeIndex: 925611 entries, 0 to 925610\n",
      "Data columns (total 20 columns):\n",
      "complainant_id           925611 non-null object\n",
      "date_received            925611 non-null datetime64[ns]\n",
      "date_closed              836105 non-null datetime64[ns]\n",
      "receiving_office         925611 non-null category\n",
      "accountability_office    925611 non-null category\n",
      "eeoc_or_fepa             925611 non-null category\n",
      "processing_category      921323 non-null category\n",
      "statute                  925530 non-null category\n",
      "basis                    925274 non-null category\n",
      "issue                    925573 non-null category\n",
      "city                     925536 non-null category\n",
      "county                   913908 non-null category\n",
      "state                    925356 non-null category\n",
      "naics                    620933 non-null category\n",
      "num_employees            900728 non-null category\n",
      "type                     925463 non-null category\n",
      "race                     838595 non-null category\n",
      "sex                      925236 non-null category\n",
      "nat_origin               713521 non-null category\n",
      "birth_date               833892 non-null datetime64[ns]\n",
      "dtypes: category(16), datetime64[ns](3), object(1)\n",
      "memory usage: 51.0+ MB\n"
     ]
    }
   ],
   "source": [
    "complainants[\"date_received\"] = pd.to_datetime(complainants[\"date_received\"], errors=\"coerce\", format=\"%m/%d/%y\")\n",
    "complainants[\"date_closed\"] = pd.to_datetime(complainants[\"date_closed\"], errors=\"coerce\", format=\"%m/%d/%y\")\n",
    "complainants[\"birth_date\"] = pd.to_datetime(complainants[\"birth_date\"], errors=\"coerce\", format=\"%m/%d/%y\")\n",
    "complainants.info()"
   ]
  },
  {
   "cell_type": "markdown",
   "metadata": {},
   "source": [
    "Because the complainant data only contains records through the end of February 2010, we will remove records with a date_received after December 31, 2009 in favor of 2010 charge data."
   ]
  },
  {
   "cell_type": "code",
   "execution_count": 5,
   "metadata": {},
   "outputs": [
    {
     "data": {
      "text/html": [
       "<div>\n",
       "<style scoped>\n",
       "    .dataframe tbody tr th:only-of-type {\n",
       "        vertical-align: middle;\n",
       "    }\n",
       "\n",
       "    .dataframe tbody tr th {\n",
       "        vertical-align: top;\n",
       "    }\n",
       "\n",
       "    .dataframe thead th {\n",
       "        text-align: right;\n",
       "    }\n",
       "</style>\n",
       "<table border=\"1\" class=\"dataframe\">\n",
       "  <thead>\n",
       "    <tr style=\"text-align: right;\">\n",
       "      <th></th>\n",
       "      <th>complainant_id</th>\n",
       "      <th>date_received</th>\n",
       "      <th>date_closed</th>\n",
       "      <th>receiving_office</th>\n",
       "      <th>accountability_office</th>\n",
       "      <th>eeoc_or_fepa</th>\n",
       "      <th>processing_category</th>\n",
       "      <th>statute</th>\n",
       "      <th>basis</th>\n",
       "      <th>issue</th>\n",
       "      <th>city</th>\n",
       "      <th>county</th>\n",
       "      <th>state</th>\n",
       "      <th>naics</th>\n",
       "      <th>num_employees</th>\n",
       "      <th>type</th>\n",
       "      <th>race</th>\n",
       "      <th>sex</th>\n",
       "      <th>nat_origin</th>\n",
       "      <th>birth_date</th>\n",
       "    </tr>\n",
       "  </thead>\n",
       "  <tbody>\n",
       "    <tr>\n",
       "      <th>81864</th>\n",
       "      <td>6,184,056.122</td>\n",
       "      <td>2010-02-28</td>\n",
       "      <td>NaT</td>\n",
       "      <td>Intake Information Group</td>\n",
       "      <td>Phoenix District Office</td>\n",
       "      <td>EEOC</td>\n",
       "      <td>A</td>\n",
       "      <td>A</td>\n",
       "      <td>/OA</td>\n",
       "      <td>/D2/S5</td>\n",
       "      <td>Salt Lake City</td>\n",
       "      <td>Salt Lake</td>\n",
       "      <td>UT</td>\n",
       "      <td>NaN</td>\n",
       "      <td>501+ Employees</td>\n",
       "      <td>Private Employer</td>\n",
       "      <td>American Indian or Alaska Native</td>\n",
       "      <td>F</td>\n",
       "      <td>American (U.S.) National Origin</td>\n",
       "      <td>2055-11-29</td>\n",
       "    </tr>\n",
       "  </tbody>\n",
       "</table>\n",
       "</div>"
      ],
      "text/plain": [
       "      complainant_id date_received date_closed          receiving_office  \\\n",
       "81864  6,184,056.122    2010-02-28         NaT  Intake Information Group   \n",
       "\n",
       "         accountability_office eeoc_or_fepa processing_category statute basis  \\\n",
       "81864  Phoenix District Office         EEOC                   A       A   /OA   \n",
       "\n",
       "        issue            city     county state naics   num_employees  \\\n",
       "81864  /D2/S5  Salt Lake City  Salt Lake    UT   NaN  501+ Employees   \n",
       "\n",
       "                   type                              race sex  \\\n",
       "81864  Private Employer  American Indian or Alaska Native   F   \n",
       "\n",
       "                            nat_origin birth_date  \n",
       "81864  American (U.S.) National Origin 2055-11-29  "
      ]
     },
     "execution_count": 5,
     "metadata": {},
     "output_type": "execute_result"
    }
   ],
   "source": [
    "complainants.sort_values(\"date_received\", ascending=False).head(1)"
   ]
  },
  {
   "cell_type": "markdown",
   "metadata": {},
   "source": [
    "## Format 2010-2017 data"
   ]
  },
  {
   "cell_type": "markdown",
   "metadata": {},
   "source": [
    "Import charge data for fiscal year 2011-2017."
   ]
  },
  {
   "cell_type": "code",
   "execution_count": 6,
   "metadata": {},
   "outputs": [
    {
     "name": "stderr",
     "output_type": "stream",
     "text": [
      "/home/jyerardi/anaconda3/lib/python3.6/site-packages/IPython/core/interactiveshell.py:2698: DtypeWarning: Columns (1,25) have mixed types. Specify dtype option on import or set low_memory=False.\n",
      "  interactivity=interactivity, compiler=compiler, result=result)\n"
     ]
    },
    {
     "name": "stdout",
     "output_type": "stream",
     "text": [
      "<class 'pandas.core.frame.DataFrame'>\n",
      "RangeIndex: 3443509 entries, 0 to 3443508\n",
      "Data columns (total 28 columns):\n",
      "fiscal_year                     category\n",
      "charge_num                      object\n",
      "state                           category\n",
      "num_employees_code              category\n",
      "num_employees                   category\n",
      "naics_code                      category\n",
      "naics_desc                      category\n",
      "type_code                       category\n",
      "type                            category\n",
      "birth_date                      object\n",
      "sex                             category\n",
      "date_received                   object\n",
      "date_closed                     object\n",
      "closure_code                    category\n",
      "closure_action                  category\n",
      "monetary_benefits               float64\n",
      "statute_code                    category\n",
      "statute                         category\n",
      "basis_code                      category\n",
      "basis                           category\n",
      "issue_code                      category\n",
      "issue                           category\n",
      "court_filing_date               object\n",
      "civil_action_num                object\n",
      "court                           category\n",
      "resolution_date                 object\n",
      "case_type                       category\n",
      "litigation_monetary_benefits    float64\n",
      "dtypes: category(19), float64(2), object(7)\n",
      "memory usage: 305.5+ MB\n"
     ]
    }
   ],
   "source": [
    "charges = pd.read_csv(\"data/raw/charges_11_17.txt\", sep=\"\\t\", skiprows=1,\n",
    "                      names=[\"fiscal_year\", \"charge_num\", \"state\", \"num_employees_code\",\n",
    "                             \"num_employees\", \"naics_code\", \"naics_desc\", \"type_code\",\n",
    "                             \"type\", \"birth_date\", \"sex\", \"date_received\", \"date_closed\",\n",
    "                             \"closure_code\", \"closure_action\", \"monetary_benefits\", \"statute_code\",\n",
    "                             \"statute\", \"basis_code\", \"basis\", \"issue_code\", \"issue\",\n",
    "                             \"court_filing_date\", \"civil_action_num\", \"court\", \"resolution_date\",\n",
    "                             \"case_type\", \"litigation_monetary_benefits\"],\n",
    "                      dtype={\"fiscal_year\": \"category\", \"state\": \"category\",\n",
    "                            \"num_employees_code\": \"category\", \"num_employees\": \"category\",\n",
    "                            \"naics_code\": \"category\", \"naics_desc\": \"category\",\n",
    "                            \"type_code\": \"category\", \"type\": \"category\", \"sex\": \"category\",\n",
    "                            \"closure_code\": \"category\", \"closure_action\": \"category\",\n",
    "                            \"statute_code\": \"category\", \"statute\": \"category\",\n",
    "                            \"basis_code\": \"category\", \"basis\": \"category\", \"issue_code\": \"category\",\n",
    "                            \"issue\": \"category\", \"court\": \"category\", \"case_type\": \"category\"})\n",
    "charges.info()"
   ]
  },
  {
   "cell_type": "markdown",
   "metadata": {},
   "source": [
    "Import charge data for fiscal year 2010."
   ]
  },
  {
   "cell_type": "code",
   "execution_count": 7,
   "metadata": {},
   "outputs": [
    {
     "name": "stderr",
     "output_type": "stream",
     "text": [
      "/home/jyerardi/anaconda3/lib/python3.6/site-packages/IPython/core/interactiveshell.py:2698: DtypeWarning: Columns (22,23,25,26) have mixed types. Specify dtype option on import or set low_memory=False.\n",
      "  interactivity=interactivity, compiler=compiler, result=result)\n"
     ]
    },
    {
     "name": "stdout",
     "output_type": "stream",
     "text": [
      "<class 'pandas.core.frame.DataFrame'>\n",
      "RangeIndex: 343863 entries, 0 to 343862\n",
      "Data columns (total 28 columns):\n",
      "charge_num                      343863 non-null object\n",
      "state                           343801 non-null category\n",
      "num_employees_code              328035 non-null category\n",
      "num_employees                   328035 non-null category\n",
      "naics_code                      187222 non-null category\n",
      "naics_desc                      185282 non-null category\n",
      "type_code                       343829 non-null category\n",
      "type                            343829 non-null category\n",
      "birth_date                      310000 non-null object\n",
      "sex                             343453 non-null category\n",
      "date_received                   343863 non-null object\n",
      "date_fepa_sent_to_eeoc          20188 non-null object\n",
      "date_closed                     230050 non-null object\n",
      "closure_code                    230050 non-null category\n",
      "closure_action                  230050 non-null category\n",
      "monetary_benefits               37964 non-null object\n",
      "statute_code                    343863 non-null category\n",
      "statute                         343367 non-null category\n",
      "basis_code                      342598 non-null category\n",
      "basis                           343859 non-null category\n",
      "issue_code                      343863 non-null category\n",
      "issue                           343863 non-null category\n",
      "court_filing_date               366 non-null object\n",
      "civil_action_num                355 non-null object\n",
      "court                           355 non-null category\n",
      "resolution_date                 41 non-null object\n",
      "litigation_monetary_benefits    11 non-null object\n",
      "case_type                       894 non-null category\n",
      "dtypes: category(18), object(10)\n",
      "memory usage: 32.9+ MB\n"
     ]
    }
   ],
   "source": [
    "charges_10 = pd.read_csv(\"data/raw/Genre_2010.txt\", sep=\"\\t\", skiprows=1,\n",
    "                         names=[\"charge_num\", \"state\", \"num_employees_code\",\n",
    "                                \"num_employees\", \"naics_code\", \"naics_desc\", \"type_code\",\n",
    "                                \"type\", \"birth_date\", \"sex\", \"date_received\", \"date_fepa_sent_to_eeoc\",\n",
    "                                \"date_closed\", \"closure_code\", \"closure_action\", \"monetary_benefits\",\n",
    "                                \"statute_code\", \"statute\", \"basis_code\", \"basis\", \"issue_code\", \"issue\",\n",
    "                                \"court_filing_date\", \"civil_action_num\", \"court\", \"resolution_date\",\n",
    "                                \"litigation_monetary_benefits\", \"case_type\"],\n",
    "                         dtype={\"state\": \"category\", \"num_employees_code\": \"category\",\n",
    "                                \"num_employees\": \"category\", \"naics_code\": \"category\",\n",
    "                                \"naics_desc\": \"category\", \"type_code\": \"category\",\n",
    "                                \"type\": \"category\", \"sex\": \"category\",\n",
    "                                \"closure_code\": \"category\", \"closure_action\": \"category\",\n",
    "                                \"statute_code\": \"category\", \"statute\": \"category\",\n",
    "                                \"basis_code\": \"category\", \"basis\": \"category\",\n",
    "                                \"issue_code\": \"category\", \"issue\": \"category\",\n",
    "                                \"court\": \"category\", \"case_type\": \"category\"})\n",
    "charges_10.info()"
   ]
  },
  {
   "cell_type": "markdown",
   "metadata": {},
   "source": [
    "The names and order of columns in the 2010 charge data differ from those of the 2011 through 2017 data. We need to delete, add, rename and reorder the columns before concatenating the data."
   ]
  },
  {
   "cell_type": "code",
   "execution_count": 8,
   "metadata": {},
   "outputs": [
    {
     "name": "stdout",
     "output_type": "stream",
     "text": [
      "<class 'pandas.core.frame.DataFrame'>\n",
      "RangeIndex: 343863 entries, 0 to 343862\n",
      "Data columns (total 28 columns):\n",
      "fiscal_year                     343863 non-null object\n",
      "charge_num                      343863 non-null object\n",
      "state                           343801 non-null category\n",
      "num_employees_code              328035 non-null category\n",
      "num_employees                   328035 non-null category\n",
      "naics_code                      187222 non-null category\n",
      "naics_desc                      185282 non-null category\n",
      "type_code                       343829 non-null category\n",
      "type                            343829 non-null category\n",
      "birth_date                      310000 non-null object\n",
      "sex                             343453 non-null category\n",
      "date_received                   343863 non-null object\n",
      "date_closed                     230050 non-null object\n",
      "closure_code                    230050 non-null category\n",
      "closure_action                  230050 non-null category\n",
      "monetary_benefits               37964 non-null object\n",
      "statute_code                    343863 non-null category\n",
      "statute                         343367 non-null category\n",
      "basis_code                      342598 non-null category\n",
      "basis                           343859 non-null category\n",
      "issue_code                      343863 non-null category\n",
      "issue                           343863 non-null category\n",
      "court_filing_date               366 non-null object\n",
      "civil_action_num                355 non-null object\n",
      "court                           355 non-null category\n",
      "resolution_date                 41 non-null object\n",
      "case_type                       894 non-null category\n",
      "litigation_monetary_benefits    11 non-null object\n",
      "dtypes: category(18), object(10)\n",
      "memory usage: 32.9+ MB\n"
     ]
    }
   ],
   "source": [
    "charges_10.drop(\"date_fepa_sent_to_eeoc\", axis=1, inplace=True)\n",
    "charges_10[\"fiscal_year\"] = \"\"\n",
    "charges_10 = charges_10[[\"fiscal_year\", \"charge_num\", \"state\", \"num_employees_code\", \"num_employees\", \"naics_code\", \"naics_desc\", \"type_code\",\n",
    "                         \"type\", \"birth_date\", \"sex\", \"date_received\", \"date_closed\", \"closure_code\", \"closure_action\", \"monetary_benefits\",\n",
    "                         \"statute_code\", \"statute\", \"basis_code\", \"basis\", \"issue_code\", \"issue\", \"court_filing_date\", \"civil_action_num\",\n",
    "                         \"court\", \"resolution_date\", \"case_type\", \"litigation_monetary_benefits\"]]\n",
    "charges_10.info()"
   ]
  },
  {
   "cell_type": "markdown",
   "metadata": {},
   "source": [
    "Concatenate the two sets of charge data."
   ]
  },
  {
   "cell_type": "code",
   "execution_count": 9,
   "metadata": {},
   "outputs": [
    {
     "name": "stdout",
     "output_type": "stream",
     "text": [
      "<class 'pandas.core.frame.DataFrame'>\n",
      "RangeIndex: 3787372 entries, 0 to 3787371\n",
      "Data columns (total 28 columns):\n",
      "fiscal_year                     object\n",
      "charge_num                      object\n",
      "state                           object\n",
      "num_employees_code              object\n",
      "num_employees                   category\n",
      "naics_code                      object\n",
      "naics_desc                      object\n",
      "type_code                       object\n",
      "type                            object\n",
      "birth_date                      object\n",
      "sex                             category\n",
      "date_received                   object\n",
      "date_closed                     object\n",
      "closure_code                    object\n",
      "closure_action                  object\n",
      "monetary_benefits               object\n",
      "statute_code                    object\n",
      "statute                         category\n",
      "basis_code                      object\n",
      "basis                           object\n",
      "issue_code                      category\n",
      "issue                           category\n",
      "court_filing_date               object\n",
      "civil_action_num                object\n",
      "court                           object\n",
      "resolution_date                 object\n",
      "case_type                       object\n",
      "litigation_monetary_benefits    object\n",
      "dtypes: category(5), object(23)\n",
      "memory usage: 682.7+ MB\n"
     ]
    }
   ],
   "source": [
    "charges = pd.concat([charges, charges_10], ignore_index=True)\n",
    "charges.info()"
   ]
  },
  {
   "cell_type": "markdown",
   "metadata": {},
   "source": [
    "Convert the date columns."
   ]
  },
  {
   "cell_type": "code",
   "execution_count": 10,
   "metadata": {},
   "outputs": [
    {
     "name": "stdout",
     "output_type": "stream",
     "text": [
      "<class 'pandas.core.frame.DataFrame'>\n",
      "RangeIndex: 3787372 entries, 0 to 3787371\n",
      "Data columns (total 28 columns):\n",
      "fiscal_year                     object\n",
      "charge_num                      object\n",
      "state                           object\n",
      "num_employees_code              object\n",
      "num_employees                   category\n",
      "naics_code                      object\n",
      "naics_desc                      object\n",
      "type_code                       object\n",
      "type                            object\n",
      "birth_date                      datetime64[ns]\n",
      "sex                             category\n",
      "date_received                   datetime64[ns]\n",
      "date_closed                     datetime64[ns]\n",
      "closure_code                    object\n",
      "closure_action                  object\n",
      "monetary_benefits               object\n",
      "statute_code                    object\n",
      "statute                         category\n",
      "basis_code                      object\n",
      "basis                           object\n",
      "issue_code                      category\n",
      "issue                           category\n",
      "court_filing_date               datetime64[ns]\n",
      "civil_action_num                object\n",
      "court                           object\n",
      "resolution_date                 datetime64[ns]\n",
      "case_type                       object\n",
      "litigation_monetary_benefits    object\n",
      "dtypes: category(5), datetime64[ns](5), object(18)\n",
      "memory usage: 682.7+ MB\n"
     ]
    }
   ],
   "source": [
    "charges[\"birth_date\"] = pd.to_datetime(charges[\"birth_date\"], errors=\"coerce\", format=\"%m/%d/%y\")\n",
    "charges[\"date_received\"] = pd.to_datetime(charges[\"date_received\"], errors=\"coerce\", format=\"%m/%d/%y\")\n",
    "charges[\"date_closed\"] = pd.to_datetime(charges[\"date_closed\"], errors=\"coerce\", format=\"%m/%d/%y\")\n",
    "charges[\"court_filing_date\"] = pd.to_datetime(charges[\"court_filing_date\"], errors=\"coerce\", format=\"%m/%d/%y\")\n",
    "charges[\"resolution_date\"] = pd.to_datetime(charges[\"resolution_date\"], errors=\"coerce\", format=\"%m/%d/%y\")\n",
    "charges.info()"
   ]
  },
  {
   "cell_type": "code",
   "execution_count": 11,
   "metadata": {},
   "outputs": [
    {
     "name": "stdout",
     "output_type": "stream",
     "text": [
      "<class 'pandas.core.frame.DataFrame'>\n",
      "RangeIndex: 343863 entries, 0 to 343862\n",
      "Data columns (total 28 columns):\n",
      "fiscal_year                     343863 non-null object\n",
      "charge_num                      343863 non-null object\n",
      "state                           343801 non-null category\n",
      "num_employees_code              328035 non-null category\n",
      "num_employees                   328035 non-null category\n",
      "naics_code                      187222 non-null category\n",
      "naics_desc                      185282 non-null category\n",
      "type_code                       343829 non-null category\n",
      "type                            343829 non-null category\n",
      "birth_date                      310000 non-null datetime64[ns]\n",
      "sex                             343453 non-null category\n",
      "date_received                   343863 non-null datetime64[ns]\n",
      "date_closed                     230050 non-null datetime64[ns]\n",
      "closure_code                    230050 non-null category\n",
      "closure_action                  230050 non-null category\n",
      "monetary_benefits               37964 non-null object\n",
      "statute_code                    343863 non-null category\n",
      "statute                         343367 non-null category\n",
      "basis_code                      342598 non-null category\n",
      "basis                           343859 non-null category\n",
      "issue_code                      343863 non-null category\n",
      "issue                           343863 non-null category\n",
      "court_filing_date               366 non-null datetime64[ns]\n",
      "civil_action_num                355 non-null object\n",
      "court                           355 non-null category\n",
      "resolution_date                 41 non-null datetime64[ns]\n",
      "case_type                       894 non-null category\n",
      "litigation_monetary_benefits    11 non-null object\n",
      "dtypes: category(18), datetime64[ns](5), object(5)\n",
      "memory usage: 32.9+ MB\n"
     ]
    }
   ],
   "source": [
    "charges_10[\"birth_date\"] = pd.to_datetime(charges_10[\"birth_date\"], errors=\"coerce\", format=\"%m/%d/%y\")\n",
    "charges_10[\"date_received\"] = pd.to_datetime(charges_10[\"date_received\"], errors=\"coerce\", format=\"%m/%d/%y\")\n",
    "charges_10[\"date_closed\"] = pd.to_datetime(charges_10[\"date_closed\"], errors=\"coerce\", format=\"%m/%d/%y\")\n",
    "charges_10[\"court_filing_date\"] = pd.to_datetime(charges_10[\"court_filing_date\"], errors=\"coerce\", format=\"%m/%d/%y\")\n",
    "charges_10[\"resolution_date\"] = pd.to_datetime(charges_10[\"resolution_date\"], errors=\"coerce\", format=\"%m/%d/%y\")\n",
    "charges_10.info()"
   ]
  }
 ],
 "metadata": {
  "kernelspec": {
   "display_name": "Python 3",
   "language": "python",
   "name": "python3"
  },
  "language_info": {
   "codemirror_mode": {
    "name": "ipython",
    "version": 3
   },
   "file_extension": ".py",
   "mimetype": "text/x-python",
   "name": "python",
   "nbconvert_exporter": "python",
   "pygments_lexer": "ipython3",
   "version": "3.6.3"
  }
 },
 "nbformat": 4,
 "nbformat_minor": 2
}
